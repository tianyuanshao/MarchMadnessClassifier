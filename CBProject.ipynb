{
  "nbformat": 4,
  "nbformat_minor": 0,
  "metadata": {
    "colab": {
      "name": "CBProject.ipynb",
      "provenance": [],
      "collapsed_sections": [],
      "include_colab_link": true
    },
    "kernelspec": {
      "display_name": "Python 3",
      "name": "python3"
    },
    "language_info": {
      "name": "python"
    }
  },
  "cells": [
    {
      "cell_type": "markdown",
      "metadata": {
        "id": "view-in-github",
        "colab_type": "text"
      },
      "source": [
        "<a href=\"https://colab.research.google.com/github/tianyuanshao/MarchMadnessClassifier/blob/main/CBProject.ipynb\" target=\"_parent\"><img src=\"https://colab.research.google.com/assets/colab-badge.svg\" alt=\"Open In Colab\"/></a>"
      ]
    },
    {
      "cell_type": "code",
      "metadata": {
        "id": "RxIthTMY-oXd",
        "colab": {
          "base_uri": "https://localhost:8080/"
        },
        "outputId": "e06e178f-b855-4b86-d21f-c430668a4ae9"
      },
      "source": [
        "# Import drive\n",
        "from google.colab import drive\n",
        "drive.mount('/content/drive/')"
      ],
      "execution_count": null,
      "outputs": [
        {
          "output_type": "stream",
          "name": "stdout",
          "text": [
            "Drive already mounted at /content/drive/; to attempt to forcibly remount, call drive.mount(\"/content/drive/\", force_remount=True).\n"
          ]
        }
      ]
    },
    {
      "cell_type": "code",
      "metadata": {
        "id": "y4LsCLvRHThx"
      },
      "source": [
        "# Import libraries \n",
        "import numpy as np\n",
        "import pandas as pd\n",
        "import seaborn as sb\n",
        "import matplotlib.pyplot as plt\n",
        "import xgboost as xgb\n",
        "import sklearn as sk\n",
        "import sklearn.metrics as skm\n",
        "from sklearn.decomposition import PCA             \n",
        "from sklearn.preprocessing import normalize       \n",
        "from sklearn.model_selection import cross_val_score\n",
        "from sklearn.model_selection import KFold\n",
        "from sklearn.model_selection import LeaveOneOut\n",
        "from sklearn.model_selection import RepeatedStratifiedKFold\n",
        "from sklearn.model_selection import GridSearchCV\n",
        "from sklearn.naive_bayes import GaussianNB\n",
        "from sklearn.linear_model import LogisticRegression\n",
        "from sklearn.svm import SVC\n",
        "from sklearn.metrics import accuracy_score\n",
        "from sklearn.metrics import f1_score\n",
        "from sklearn.metrics import precision_score\n",
        "from sklearn.metrics import recall_score\n",
        "from sklearn.metrics import f1_score"
      ],
      "execution_count": null,
      "outputs": []
    },
    {
      "cell_type": "code",
      "metadata": {
        "id": "S8FWYqx_Rl2t"
      },
      "source": [
        "# Import Libraries for Deep Learning\n",
        "from sklearn.model_selection import StratifiedKFold\n",
        "from sklearn.model_selection import train_test_split\n",
        "from sklearn.preprocessing import LabelEncoder\n",
        "from tensorflow.keras import Sequential\n",
        "from tensorflow.keras.layers import Dense, BatchNormalization, Dropout\n",
        "from tensorflow.keras.layers import LeakyReLU\n",
        "from tensorflow.keras.optimizers import Adam, SGD, RMSprop, Adadelta, Adagrad, Adamax, Nadam, Ftrl\n",
        "from tensorflow.keras.callbacks import EarlyStopping, ModelCheckpoint\n",
        "from tensorflow.keras.wrappers.scikit_learn import KerasClassifier\n",
        "from math import floor\n",
        "from sklearn.metrics import make_scorer\n",
        "from pprint import pprint\n",
        "import warnings"
      ],
      "execution_count": null,
      "outputs": []
    },
    {
      "cell_type": "code",
      "metadata": {
        "colab": {
          "base_uri": "https://localhost:8080/"
        },
        "id": "ktDLufOIr2p7",
        "outputId": "abad0cdc-57b3-47e5-ce0b-c97a660df75b"
      },
      "source": [
        "# Bayes Optimization Library: https://github.com/fmfn/BayesianOptimization\n",
        "!pip install bayesian-optimization\n",
        "from bayes_opt import BayesianOptimization"
      ],
      "execution_count": null,
      "outputs": [
        {
          "output_type": "stream",
          "name": "stdout",
          "text": [
            "Requirement already satisfied: bayesian-optimization in /usr/local/lib/python3.7/dist-packages (1.2.0)\n",
            "Requirement already satisfied: numpy>=1.9.0 in /usr/local/lib/python3.7/dist-packages (from bayesian-optimization) (1.19.5)\n",
            "Requirement already satisfied: scipy>=0.14.0 in /usr/local/lib/python3.7/dist-packages (from bayesian-optimization) (1.4.1)\n",
            "Requirement already satisfied: scikit-learn>=0.18.0 in /usr/local/lib/python3.7/dist-packages (from bayesian-optimization) (1.0.1)\n",
            "Requirement already satisfied: joblib>=0.11 in /usr/local/lib/python3.7/dist-packages (from scikit-learn>=0.18.0->bayesian-optimization) (1.1.0)\n",
            "Requirement already satisfied: threadpoolctl>=2.0.0 in /usr/local/lib/python3.7/dist-packages (from scikit-learn>=0.18.0->bayesian-optimization) (3.0.0)\n"
          ]
        }
      ]
    },
    {
      "cell_type": "code",
      "metadata": {
        "id": "_aWvlqg5Rs8y"
      },
      "source": [
        "warnings.filterwarnings('ignore')\n",
        "pd.set_option(\"display.max_columns\", None)"
      ],
      "execution_count": null,
      "outputs": []
    },
    {
      "cell_type": "code",
      "metadata": {
        "id": "qG_uhlAwJfeH"
      },
      "source": [
        "# Import datasets \n",
        "\n",
        "# ALL YEARS\n",
        "cbb = pd.read_csv('/content/drive/MyDrive/CS271P/FinalProject/Datafiles/cbb.csv')"
      ],
      "execution_count": null,
      "outputs": []
    },
    {
      "cell_type": "code",
      "metadata": {
        "id": "6fwV-BrAdxDN",
        "colab": {
          "base_uri": "https://localhost:8080/"
        },
        "outputId": "337a7e62-de68-4f78-803d-71df9bcbd42c"
      },
      "source": [
        "# EDA: Basics\n",
        "cbb.head(5)     # Obtain first 5 rows\n",
        "len(cbb['CONF'].unique())   # Obtain distinct number of CONF variables (Athletic conference of school participation)\n",
        "len(cbb.columns)    # Obtain total number of variables \n",
        "len(cbb.index)      # Obtain total number of rows\n",
        "cbb.dtypes          # Types per columns\n",
        "cbb.shape           # Dimensions of data frame"
      ],
      "execution_count": null,
      "outputs": [
        {
          "output_type": "execute_result",
          "data": {
            "text/plain": [
              "(2455, 24)"
            ]
          },
          "metadata": {},
          "execution_count": 35
        }
      ]
    },
    {
      "cell_type": "code",
      "metadata": {
        "id": "zIZodYh5BPnz",
        "colab": {
          "base_uri": "https://localhost:8080/",
          "height": 50
        },
        "outputId": "df87c941-78ed-44cb-9d06-5bb07960be22"
      },
      "source": [
        "# Check for duplicate rows\n",
        "cbb_duplicated = cbb[cbb.duplicated()]\n",
        "cbb_duplicated"
      ],
      "execution_count": null,
      "outputs": [
        {
          "output_type": "execute_result",
          "data": {
            "text/html": [
              "<div>\n",
              "<style scoped>\n",
              "    .dataframe tbody tr th:only-of-type {\n",
              "        vertical-align: middle;\n",
              "    }\n",
              "\n",
              "    .dataframe tbody tr th {\n",
              "        vertical-align: top;\n",
              "    }\n",
              "\n",
              "    .dataframe thead th {\n",
              "        text-align: right;\n",
              "    }\n",
              "</style>\n",
              "<table border=\"1\" class=\"dataframe\">\n",
              "  <thead>\n",
              "    <tr style=\"text-align: right;\">\n",
              "      <th></th>\n",
              "      <th>TEAM</th>\n",
              "      <th>CONF</th>\n",
              "      <th>G</th>\n",
              "      <th>W</th>\n",
              "      <th>ADJOE</th>\n",
              "      <th>ADJDE</th>\n",
              "      <th>BARTHAG</th>\n",
              "      <th>EFG_O</th>\n",
              "      <th>EFG_D</th>\n",
              "      <th>TOR</th>\n",
              "      <th>TORD</th>\n",
              "      <th>ORB</th>\n",
              "      <th>DRB</th>\n",
              "      <th>FTR</th>\n",
              "      <th>FTRD</th>\n",
              "      <th>2P_O</th>\n",
              "      <th>2P_D</th>\n",
              "      <th>3P_O</th>\n",
              "      <th>3P_D</th>\n",
              "      <th>ADJ_T</th>\n",
              "      <th>WAB</th>\n",
              "      <th>POSTSEASON</th>\n",
              "      <th>SEED</th>\n",
              "      <th>YEAR</th>\n",
              "    </tr>\n",
              "  </thead>\n",
              "  <tbody>\n",
              "  </tbody>\n",
              "</table>\n",
              "</div>"
            ],
            "text/plain": [
              "Empty DataFrame\n",
              "Columns: [TEAM, CONF, G, W, ADJOE, ADJDE, BARTHAG, EFG_O, EFG_D, TOR, TORD, ORB, DRB, FTR, FTRD, 2P_O, 2P_D, 3P_O, 3P_D, ADJ_T, WAB, POSTSEASON, SEED, YEAR]\n",
              "Index: []"
            ]
          },
          "metadata": {},
          "execution_count": 36
        }
      ]
    },
    {
      "cell_type": "code",
      "metadata": {
        "id": "ca_US6Efosqc",
        "colab": {
          "base_uri": "https://localhost:8080/"
        },
        "outputId": "03c1857f-16b5-4702-cb8e-3294fae61843"
      },
      "source": [
        "# EDA: Transforming Null Values/New Variable Assignments\n",
        "cbb.isnull().sum()    # Obtain number of null values for each variable\n",
        "\n",
        "# 1 = TRUE, 0 = FALSE\n",
        "cbb['MAKE'] = np.where(pd.isnull(cbb.SEED), 0, 1)   # Create new bool variable MAKE for team making it into tournament \n",
        "\n",
        "len(cbb.columns)"
      ],
      "execution_count": null,
      "outputs": [
        {
          "output_type": "execute_result",
          "data": {
            "text/plain": [
              "25"
            ]
          },
          "metadata": {},
          "execution_count": 37
        }
      ]
    },
    {
      "cell_type": "code",
      "metadata": {
        "id": "9KOiKts954wr",
        "colab": {
          "base_uri": "https://localhost:8080/",
          "height": 423
        },
        "outputId": "c3f1c33a-0259-40ba-db41-e6db120a8547"
      },
      "source": [
        "# EDA: Transforming Wins Over Games Variables to Win Percentages\n",
        "cbb.insert(2, 'WP', cbb.apply(lambda x:x['W']/x['G'], axis = 1))\n",
        "cbb"
      ],
      "execution_count": null,
      "outputs": [
        {
          "output_type": "execute_result",
          "data": {
            "text/html": [
              "<div>\n",
              "<style scoped>\n",
              "    .dataframe tbody tr th:only-of-type {\n",
              "        vertical-align: middle;\n",
              "    }\n",
              "\n",
              "    .dataframe tbody tr th {\n",
              "        vertical-align: top;\n",
              "    }\n",
              "\n",
              "    .dataframe thead th {\n",
              "        text-align: right;\n",
              "    }\n",
              "</style>\n",
              "<table border=\"1\" class=\"dataframe\">\n",
              "  <thead>\n",
              "    <tr style=\"text-align: right;\">\n",
              "      <th></th>\n",
              "      <th>TEAM</th>\n",
              "      <th>CONF</th>\n",
              "      <th>WP</th>\n",
              "      <th>G</th>\n",
              "      <th>W</th>\n",
              "      <th>ADJOE</th>\n",
              "      <th>ADJDE</th>\n",
              "      <th>BARTHAG</th>\n",
              "      <th>EFG_O</th>\n",
              "      <th>EFG_D</th>\n",
              "      <th>TOR</th>\n",
              "      <th>TORD</th>\n",
              "      <th>ORB</th>\n",
              "      <th>DRB</th>\n",
              "      <th>FTR</th>\n",
              "      <th>FTRD</th>\n",
              "      <th>2P_O</th>\n",
              "      <th>2P_D</th>\n",
              "      <th>3P_O</th>\n",
              "      <th>3P_D</th>\n",
              "      <th>ADJ_T</th>\n",
              "      <th>WAB</th>\n",
              "      <th>POSTSEASON</th>\n",
              "      <th>SEED</th>\n",
              "      <th>YEAR</th>\n",
              "      <th>MAKE</th>\n",
              "    </tr>\n",
              "  </thead>\n",
              "  <tbody>\n",
              "    <tr>\n",
              "      <th>0</th>\n",
              "      <td>North Carolina</td>\n",
              "      <td>ACC</td>\n",
              "      <td>0.825000</td>\n",
              "      <td>40</td>\n",
              "      <td>33</td>\n",
              "      <td>123.3</td>\n",
              "      <td>94.9</td>\n",
              "      <td>0.9531</td>\n",
              "      <td>52.6</td>\n",
              "      <td>48.1</td>\n",
              "      <td>15.4</td>\n",
              "      <td>18.2</td>\n",
              "      <td>40.7</td>\n",
              "      <td>30.0</td>\n",
              "      <td>32.3</td>\n",
              "      <td>30.4</td>\n",
              "      <td>53.9</td>\n",
              "      <td>44.6</td>\n",
              "      <td>32.7</td>\n",
              "      <td>36.2</td>\n",
              "      <td>71.7</td>\n",
              "      <td>8.6</td>\n",
              "      <td>2ND</td>\n",
              "      <td>1.0</td>\n",
              "      <td>2016</td>\n",
              "      <td>1</td>\n",
              "    </tr>\n",
              "    <tr>\n",
              "      <th>1</th>\n",
              "      <td>Wisconsin</td>\n",
              "      <td>B10</td>\n",
              "      <td>0.900000</td>\n",
              "      <td>40</td>\n",
              "      <td>36</td>\n",
              "      <td>129.1</td>\n",
              "      <td>93.6</td>\n",
              "      <td>0.9758</td>\n",
              "      <td>54.8</td>\n",
              "      <td>47.7</td>\n",
              "      <td>12.4</td>\n",
              "      <td>15.8</td>\n",
              "      <td>32.1</td>\n",
              "      <td>23.7</td>\n",
              "      <td>36.2</td>\n",
              "      <td>22.4</td>\n",
              "      <td>54.8</td>\n",
              "      <td>44.7</td>\n",
              "      <td>36.5</td>\n",
              "      <td>37.5</td>\n",
              "      <td>59.3</td>\n",
              "      <td>11.3</td>\n",
              "      <td>2ND</td>\n",
              "      <td>1.0</td>\n",
              "      <td>2015</td>\n",
              "      <td>1</td>\n",
              "    </tr>\n",
              "    <tr>\n",
              "      <th>2</th>\n",
              "      <td>Michigan</td>\n",
              "      <td>B10</td>\n",
              "      <td>0.825000</td>\n",
              "      <td>40</td>\n",
              "      <td>33</td>\n",
              "      <td>114.4</td>\n",
              "      <td>90.4</td>\n",
              "      <td>0.9375</td>\n",
              "      <td>53.9</td>\n",
              "      <td>47.7</td>\n",
              "      <td>14.0</td>\n",
              "      <td>19.5</td>\n",
              "      <td>25.5</td>\n",
              "      <td>24.9</td>\n",
              "      <td>30.7</td>\n",
              "      <td>30.0</td>\n",
              "      <td>54.7</td>\n",
              "      <td>46.8</td>\n",
              "      <td>35.2</td>\n",
              "      <td>33.2</td>\n",
              "      <td>65.9</td>\n",
              "      <td>6.9</td>\n",
              "      <td>2ND</td>\n",
              "      <td>3.0</td>\n",
              "      <td>2018</td>\n",
              "      <td>1</td>\n",
              "    </tr>\n",
              "    <tr>\n",
              "      <th>3</th>\n",
              "      <td>Texas Tech</td>\n",
              "      <td>B12</td>\n",
              "      <td>0.815789</td>\n",
              "      <td>38</td>\n",
              "      <td>31</td>\n",
              "      <td>115.2</td>\n",
              "      <td>85.2</td>\n",
              "      <td>0.9696</td>\n",
              "      <td>53.5</td>\n",
              "      <td>43.0</td>\n",
              "      <td>17.7</td>\n",
              "      <td>22.8</td>\n",
              "      <td>27.4</td>\n",
              "      <td>28.7</td>\n",
              "      <td>32.9</td>\n",
              "      <td>36.6</td>\n",
              "      <td>52.8</td>\n",
              "      <td>41.9</td>\n",
              "      <td>36.5</td>\n",
              "      <td>29.7</td>\n",
              "      <td>67.5</td>\n",
              "      <td>7.0</td>\n",
              "      <td>2ND</td>\n",
              "      <td>3.0</td>\n",
              "      <td>2019</td>\n",
              "      <td>1</td>\n",
              "    </tr>\n",
              "    <tr>\n",
              "      <th>4</th>\n",
              "      <td>Gonzaga</td>\n",
              "      <td>WCC</td>\n",
              "      <td>0.948718</td>\n",
              "      <td>39</td>\n",
              "      <td>37</td>\n",
              "      <td>117.8</td>\n",
              "      <td>86.3</td>\n",
              "      <td>0.9728</td>\n",
              "      <td>56.6</td>\n",
              "      <td>41.1</td>\n",
              "      <td>16.2</td>\n",
              "      <td>17.1</td>\n",
              "      <td>30.0</td>\n",
              "      <td>26.2</td>\n",
              "      <td>39.0</td>\n",
              "      <td>26.9</td>\n",
              "      <td>56.3</td>\n",
              "      <td>40.0</td>\n",
              "      <td>38.2</td>\n",
              "      <td>29.0</td>\n",
              "      <td>71.5</td>\n",
              "      <td>7.7</td>\n",
              "      <td>2ND</td>\n",
              "      <td>1.0</td>\n",
              "      <td>2017</td>\n",
              "      <td>1</td>\n",
              "    </tr>\n",
              "    <tr>\n",
              "      <th>...</th>\n",
              "      <td>...</td>\n",
              "      <td>...</td>\n",
              "      <td>...</td>\n",
              "      <td>...</td>\n",
              "      <td>...</td>\n",
              "      <td>...</td>\n",
              "      <td>...</td>\n",
              "      <td>...</td>\n",
              "      <td>...</td>\n",
              "      <td>...</td>\n",
              "      <td>...</td>\n",
              "      <td>...</td>\n",
              "      <td>...</td>\n",
              "      <td>...</td>\n",
              "      <td>...</td>\n",
              "      <td>...</td>\n",
              "      <td>...</td>\n",
              "      <td>...</td>\n",
              "      <td>...</td>\n",
              "      <td>...</td>\n",
              "      <td>...</td>\n",
              "      <td>...</td>\n",
              "      <td>...</td>\n",
              "      <td>...</td>\n",
              "      <td>...</td>\n",
              "      <td>...</td>\n",
              "    </tr>\n",
              "    <tr>\n",
              "      <th>2450</th>\n",
              "      <td>Michigan St.</td>\n",
              "      <td>B10</td>\n",
              "      <td>0.742857</td>\n",
              "      <td>35</td>\n",
              "      <td>26</td>\n",
              "      <td>111.4</td>\n",
              "      <td>87.8</td>\n",
              "      <td>0.9392</td>\n",
              "      <td>50.6</td>\n",
              "      <td>44.5</td>\n",
              "      <td>20.8</td>\n",
              "      <td>19.2</td>\n",
              "      <td>36.1</td>\n",
              "      <td>27.6</td>\n",
              "      <td>36.6</td>\n",
              "      <td>32.4</td>\n",
              "      <td>50.4</td>\n",
              "      <td>44.3</td>\n",
              "      <td>34.1</td>\n",
              "      <td>30.1</td>\n",
              "      <td>64.4</td>\n",
              "      <td>6.7</td>\n",
              "      <td>S16</td>\n",
              "      <td>3.0</td>\n",
              "      <td>2013</td>\n",
              "      <td>1</td>\n",
              "    </tr>\n",
              "    <tr>\n",
              "      <th>2451</th>\n",
              "      <td>Arizona</td>\n",
              "      <td>P12</td>\n",
              "      <td>0.771429</td>\n",
              "      <td>35</td>\n",
              "      <td>27</td>\n",
              "      <td>114.4</td>\n",
              "      <td>92.2</td>\n",
              "      <td>0.9229</td>\n",
              "      <td>52.5</td>\n",
              "      <td>46.6</td>\n",
              "      <td>19.5</td>\n",
              "      <td>19.8</td>\n",
              "      <td>35.0</td>\n",
              "      <td>26.7</td>\n",
              "      <td>37.4</td>\n",
              "      <td>32.9</td>\n",
              "      <td>50.6</td>\n",
              "      <td>43.4</td>\n",
              "      <td>37.1</td>\n",
              "      <td>35.8</td>\n",
              "      <td>66.8</td>\n",
              "      <td>4.6</td>\n",
              "      <td>S16</td>\n",
              "      <td>6.0</td>\n",
              "      <td>2013</td>\n",
              "      <td>1</td>\n",
              "    </tr>\n",
              "    <tr>\n",
              "      <th>2452</th>\n",
              "      <td>Oregon</td>\n",
              "      <td>P12</td>\n",
              "      <td>0.756757</td>\n",
              "      <td>37</td>\n",
              "      <td>28</td>\n",
              "      <td>104.8</td>\n",
              "      <td>88.6</td>\n",
              "      <td>0.8728</td>\n",
              "      <td>49.3</td>\n",
              "      <td>46.4</td>\n",
              "      <td>21.4</td>\n",
              "      <td>22.0</td>\n",
              "      <td>35.8</td>\n",
              "      <td>27.2</td>\n",
              "      <td>38.4</td>\n",
              "      <td>33.3</td>\n",
              "      <td>49.1</td>\n",
              "      <td>44.9</td>\n",
              "      <td>33.3</td>\n",
              "      <td>33.4</td>\n",
              "      <td>69.2</td>\n",
              "      <td>2.9</td>\n",
              "      <td>S16</td>\n",
              "      <td>12.0</td>\n",
              "      <td>2013</td>\n",
              "      <td>1</td>\n",
              "    </tr>\n",
              "    <tr>\n",
              "      <th>2453</th>\n",
              "      <td>La Salle</td>\n",
              "      <td>A10</td>\n",
              "      <td>0.705882</td>\n",
              "      <td>34</td>\n",
              "      <td>24</td>\n",
              "      <td>112.0</td>\n",
              "      <td>96.2</td>\n",
              "      <td>0.8516</td>\n",
              "      <td>51.9</td>\n",
              "      <td>49.3</td>\n",
              "      <td>17.1</td>\n",
              "      <td>21.3</td>\n",
              "      <td>29.0</td>\n",
              "      <td>34.2</td>\n",
              "      <td>31.3</td>\n",
              "      <td>28.5</td>\n",
              "      <td>49.3</td>\n",
              "      <td>50.6</td>\n",
              "      <td>37.7</td>\n",
              "      <td>30.2</td>\n",
              "      <td>66.0</td>\n",
              "      <td>0.3</td>\n",
              "      <td>S16</td>\n",
              "      <td>13.0</td>\n",
              "      <td>2013</td>\n",
              "      <td>1</td>\n",
              "    </tr>\n",
              "    <tr>\n",
              "      <th>2454</th>\n",
              "      <td>Florida Gulf Coast</td>\n",
              "      <td>ASun</td>\n",
              "      <td>0.685714</td>\n",
              "      <td>35</td>\n",
              "      <td>24</td>\n",
              "      <td>103.4</td>\n",
              "      <td>96.3</td>\n",
              "      <td>0.6952</td>\n",
              "      <td>51.6</td>\n",
              "      <td>46.9</td>\n",
              "      <td>21.0</td>\n",
              "      <td>22.1</td>\n",
              "      <td>32.5</td>\n",
              "      <td>32.8</td>\n",
              "      <td>35.2</td>\n",
              "      <td>32.7</td>\n",
              "      <td>52.3</td>\n",
              "      <td>46.9</td>\n",
              "      <td>33.4</td>\n",
              "      <td>31.3</td>\n",
              "      <td>69.1</td>\n",
              "      <td>-4.0</td>\n",
              "      <td>S16</td>\n",
              "      <td>15.0</td>\n",
              "      <td>2013</td>\n",
              "      <td>1</td>\n",
              "    </tr>\n",
              "  </tbody>\n",
              "</table>\n",
              "<p>2455 rows × 26 columns</p>\n",
              "</div>"
            ],
            "text/plain": [
              "                    TEAM  CONF        WP   G   W  ADJOE  ADJDE  BARTHAG  \\\n",
              "0         North Carolina   ACC  0.825000  40  33  123.3   94.9   0.9531   \n",
              "1              Wisconsin   B10  0.900000  40  36  129.1   93.6   0.9758   \n",
              "2               Michigan   B10  0.825000  40  33  114.4   90.4   0.9375   \n",
              "3             Texas Tech   B12  0.815789  38  31  115.2   85.2   0.9696   \n",
              "4                Gonzaga   WCC  0.948718  39  37  117.8   86.3   0.9728   \n",
              "...                  ...   ...       ...  ..  ..    ...    ...      ...   \n",
              "2450        Michigan St.   B10  0.742857  35  26  111.4   87.8   0.9392   \n",
              "2451             Arizona   P12  0.771429  35  27  114.4   92.2   0.9229   \n",
              "2452              Oregon   P12  0.756757  37  28  104.8   88.6   0.8728   \n",
              "2453            La Salle   A10  0.705882  34  24  112.0   96.2   0.8516   \n",
              "2454  Florida Gulf Coast  ASun  0.685714  35  24  103.4   96.3   0.6952   \n",
              "\n",
              "      EFG_O  EFG_D   TOR  TORD   ORB   DRB   FTR  FTRD  2P_O  2P_D  3P_O  \\\n",
              "0      52.6   48.1  15.4  18.2  40.7  30.0  32.3  30.4  53.9  44.6  32.7   \n",
              "1      54.8   47.7  12.4  15.8  32.1  23.7  36.2  22.4  54.8  44.7  36.5   \n",
              "2      53.9   47.7  14.0  19.5  25.5  24.9  30.7  30.0  54.7  46.8  35.2   \n",
              "3      53.5   43.0  17.7  22.8  27.4  28.7  32.9  36.6  52.8  41.9  36.5   \n",
              "4      56.6   41.1  16.2  17.1  30.0  26.2  39.0  26.9  56.3  40.0  38.2   \n",
              "...     ...    ...   ...   ...   ...   ...   ...   ...   ...   ...   ...   \n",
              "2450   50.6   44.5  20.8  19.2  36.1  27.6  36.6  32.4  50.4  44.3  34.1   \n",
              "2451   52.5   46.6  19.5  19.8  35.0  26.7  37.4  32.9  50.6  43.4  37.1   \n",
              "2452   49.3   46.4  21.4  22.0  35.8  27.2  38.4  33.3  49.1  44.9  33.3   \n",
              "2453   51.9   49.3  17.1  21.3  29.0  34.2  31.3  28.5  49.3  50.6  37.7   \n",
              "2454   51.6   46.9  21.0  22.1  32.5  32.8  35.2  32.7  52.3  46.9  33.4   \n",
              "\n",
              "      3P_D  ADJ_T   WAB POSTSEASON  SEED  YEAR  MAKE  \n",
              "0     36.2   71.7   8.6        2ND   1.0  2016     1  \n",
              "1     37.5   59.3  11.3        2ND   1.0  2015     1  \n",
              "2     33.2   65.9   6.9        2ND   3.0  2018     1  \n",
              "3     29.7   67.5   7.0        2ND   3.0  2019     1  \n",
              "4     29.0   71.5   7.7        2ND   1.0  2017     1  \n",
              "...    ...    ...   ...        ...   ...   ...   ...  \n",
              "2450  30.1   64.4   6.7        S16   3.0  2013     1  \n",
              "2451  35.8   66.8   4.6        S16   6.0  2013     1  \n",
              "2452  33.4   69.2   2.9        S16  12.0  2013     1  \n",
              "2453  30.2   66.0   0.3        S16  13.0  2013     1  \n",
              "2454  31.3   69.1  -4.0        S16  15.0  2013     1  \n",
              "\n",
              "[2455 rows x 26 columns]"
            ]
          },
          "metadata": {},
          "execution_count": 38
        }
      ]
    },
    {
      "cell_type": "code",
      "metadata": {
        "id": "jWfkdWYqvqaT",
        "colab": {
          "base_uri": "https://localhost:8080/",
          "height": 282
        },
        "outputId": "e1872b1e-dcff-40f1-f384-734dca1a08b4"
      },
      "source": [
        "# EDA: Numerical Variables\n",
        "cbbnum = cbb.drop(columns = ['YEAR', 'CONF', 'POSTSEASON', 'SEED', 'MAKE'])  # Include only columns with numerical values\n",
        "cbbnum.describe()       # Summary statistics for numerical variables \n",
        "cbbnum.WP.hist()\n",
        "#cbbnum.G.hist()\n",
        "#cbbnum.W.hist()\n",
        "#cbbnum.ADJOE.hist()\n",
        "#cbbnum.ADJDE.hist()\n",
        "#cbbnum.BARTHAG.hist()\n",
        "#cbbnum.EFG_O.hist()\n",
        "#cbbnum.EFG_D.hist()\n",
        "#cbbnum.TOR.hist()\n",
        "#cbbnum.TORD.hist()\n",
        "#cbbnum.ORB.hist()\n",
        "#cbbnum.DRB.hist()\n",
        "#cbbnum.FTR.hist()\n",
        "#cbbnum.FTRD.hist()\n",
        "#cbbnum.2P_O.hist()\n",
        "#cbbnum.2P_D.hist()\n",
        "#cbbnum.3P_O.hist()\n",
        "#cbbnum.3P_D.hist()\n",
        "#cbbnum.ADJ_T.hist()\n",
        "#cbbnum.WAB.hist()"
      ],
      "execution_count": null,
      "outputs": [
        {
          "output_type": "execute_result",
          "data": {
            "text/plain": [
              "<matplotlib.axes._subplots.AxesSubplot at 0x7fb8eba22210>"
            ]
          },
          "metadata": {},
          "execution_count": 39
        },
        {
          "output_type": "display_data",
          "data": {
            "image/png": "[encoded data removed]",
            "text/plain": [
              "<Figure size 432x288 with 1 Axes>"
            ]
          },
          "metadata": {
            "needs_background": "light"
          }
        }
      ]
    },
    {
      "cell_type": "code",
      "metadata": {
        "id": "1MdyUaUMUDHe",
        "colab": {
          "base_uri": "https://localhost:8080/",
          "height": 324
        },
        "outputId": "1d386ed0-3780-4e63-c905-8b02108aebfb"
      },
      "source": [
        "# EDA: Heatmap\n",
        "cbbnew = cbb.drop(columns = ['SEED', 'POSTSEASON'])     # Drop columns with null values (already transformed)\n",
        "len(cbbnew.columns)\n",
        "cbbnew.isnull().sum()     # Check for null values\n",
        "\n",
        "# Can customize correlation method (Pearson by default): https://pandas.pydata.org/docs/reference/api/pandas.DataFrame.corr.html\n",
        "sb.heatmap(cbbnew.corr())    # Plot heatmap for database"
      ],
      "execution_count": null,
      "outputs": [
        {
          "output_type": "execute_result",
          "data": {
            "text/plain": [
              "<matplotlib.axes._subplots.AxesSubplot at 0x7fb8eb8c8a90>"
            ]
          },
          "metadata": {},
          "execution_count": 40
        },
        {
          "output_type": "display_data",
          "data": {
            "image/png": "[encoded data removed]",
            "text/plain": [
              "<Figure size 432x288 with 2 Axes>"
            ]
          },
          "metadata": {
            "needs_background": "light"
          }
        }
      ]
    },
    {
      "cell_type": "code",
      "metadata": {
        "id": "jjCD7LiymHGo",
        "colab": {
          "base_uri": "https://localhost:8080/"
        },
        "outputId": "3015f4e7-4b3f-42e5-8891-1d43beff4e82"
      },
      "source": [
        "# EDA: Mean Statistics for Teams\n",
        "byteam = cbbnew.groupby('TEAM')\n",
        "\n",
        "byteam.mean()\n",
        "\n",
        "byteam.MAKE.sum().sort_values(ascending = False)\n",
        "byteam.WP.mean().sort_values(ascending = False)\n",
        "\n",
        "\n"
      ],
      "execution_count": null,
      "outputs": [
        {
          "output_type": "execute_result",
          "data": {
            "text/plain": [
              "TEAM\n",
              "Gonzaga                   0.872512\n",
              "Villanova                 0.818782\n",
              "Virginia                  0.806197\n",
              "Wichita St.               0.795254\n",
              "Duke                      0.792960\n",
              "                            ...   \n",
              "Alabama A&M               0.243395\n",
              "Maine                     0.211023\n",
              "San Jose St.              0.206240\n",
              "Mississippi Valley St.    0.191263\n",
              "Chicago St.               0.174548\n",
              "Name: WP, Length: 355, dtype: float64"
            ]
          },
          "metadata": {},
          "execution_count": 41
        }
      ]
    },
    {
      "cell_type": "code",
      "metadata": {
        "id": "IV1jYZhmNe4N"
      },
      "source": [
        "# EDA: Creating Training Data\n",
        "y = cbb['MAKE']         # Set target value to FINALS\n",
        "cbb['MAKE'].value_counts()\n",
        "cbb\n",
        "x = cbb.drop(columns = ['G', 'W', 'MAKE', 'POSTSEASON', 'SEED'], axis = 1)\n",
        "\n"
      ],
      "execution_count": null,
      "outputs": []
    },
    {
      "cell_type": "code",
      "metadata": {
        "id": "P4locx5ISaKv"
      },
      "source": [
        "# Find int types\n",
        "x.dtypes\n",
        "\n",
        "# Drop non-float types\n",
        "x.drop(columns = ['TEAM', 'CONF','YEAR', 'WAB'], inplace=True)"
      ],
      "execution_count": null,
      "outputs": []
    },
    {
      "cell_type": "code",
      "metadata": {
        "colab": {
          "base_uri": "https://localhost:8080/",
          "height": 282
        },
        "id": "1POJOng4-moa",
        "outputId": "b26b6556-cc57-4a94-8be0-8e14f7dd806a"
      },
      "source": [
        "#PCA for Dimensionality Reduction / Explained Variance of columns               \n",
        "A = x\n",
        "pca = PCA(n_components=17) \n",
        "B = pca.fit_transform(sk.preprocessing.scale(A))      # Scale data as each variable has different range\n",
        "plt.scatter(B[:,0], B[:,1])\n",
        "\n",
        "\n",
        "#print(pca.explained_variance_)\n",
        "#print(abs(pca.components_))\n",
        "#print(B)"
      ],
      "execution_count": null,
      "outputs": [
        {
          "output_type": "execute_result",
          "data": {
            "text/plain": [
              "<matplotlib.collections.PathCollection at 0x7fb8eb90ac10>"
            ]
          },
          "metadata": {},
          "execution_count": 44
        },
        {
          "output_type": "display_data",
          "data": {
            "image/png": "[encoded data removed]",
            "text/plain": [
              "<Figure size 432x288 with 1 Axes>"
            ]
          },
          "metadata": {
            "needs_background": "light"
          }
        }
      ]
    },
    {
      "cell_type": "code",
      "metadata": {
        "colab": {
          "base_uri": "https://localhost:8080/",
          "height": 280
        },
        "id": "6SvbLMzyB2WL",
        "outputId": "2c586530-c9a0-4ee9-8833-d50ec6d9ef23"
      },
      "source": [
        "# Number of Principal Components    \n",
        "\n",
        "# https://towardsdatascience.com/dimensionality-reduction-can-pca-improve-the-performance-of-a-classification-model-d4e34194c544\n",
        "\n",
        "percent_var_explained = pca.explained_variance_/(np.sum(pca.explained_variance_))\n",
        "cumm_var_explained = np.cumsum(percent_var_explained)\n",
        "\n",
        "plt.plot(cumm_var_explained)\n",
        "plt.grid()\n",
        "plt.xlabel(\"n_components\")\n",
        "plt.ylabel(\"% variance explained\")\n",
        "plt.show()\n"
      ],
      "execution_count": null,
      "outputs": [
        {
          "output_type": "display_data",
          "data": {
            "image/png": "[encoded data removed]",
            "text/plain": [
              "<Figure size 432x288 with 1 Axes>"
            ]
          },
          "metadata": {
            "needs_background": "light"
          }
        }
      ]
    },
    {
      "cell_type": "code",
      "metadata": {
        "colab": {
          "base_uri": "https://localhost:8080/"
        },
        "id": "jM1wx18KCNHv",
        "outputId": "8db2bcac-9a85-40c7-8dcf-19ca6b80ddf6"
      },
      "source": [
        "# number of components to capture >50% is 2 and > 90% variance is 8\n",
        "\n",
        "# https://towardsdatascience.com/pca-is-not-feature-selection-3344fb764ae6  \n",
        "\n",
        "pca = PCA(n_components = 8)\n",
        "B = pca.fit_transform(sk.preprocessing.scale(A))\n",
        "\n",
        "# most important features for each PC\n",
        "\n",
        "num_pc = pca.components_.shape[0]\n",
        "most_important = [np.abs(pca.components_[i]).argmax() for i in range(num_pc)]\n",
        "                         \n",
        "feature_names = list(x.columns)\n",
        "important_names = [feature_names[most_important[i]] for i in range(num_pc)]\n",
        "\n",
        "dic_feature = {'PC{}'.format(i+1):important_names[i] for i in range(num_pc)}\n",
        "\n",
        "feature_pca = pd.DataFrame(dic_feature.items())\n",
        "\n",
        "print(feature_pca)\n",
        "print(x.var())"
      ],
      "execution_count": null,
      "outputs": [
        {
          "output_type": "stream",
          "name": "stdout",
          "text": [
            "     0        1\n",
            "0  PC1  BARTHAG\n",
            "1  PC2    EFG_D\n",
            "2  PC3     TORD\n",
            "3  PC4     TORD\n",
            "4  PC5    ADJ_T\n",
            "5  PC6      TOR\n",
            "6  PC7      DRB\n",
            "7  PC8      ORB\n",
            "WP          0.032301\n",
            "ADJOE      54.419841\n",
            "ADJDE      43.630227\n",
            "BARTHAG     0.065661\n",
            "EFG_O       9.878833\n",
            "EFG_D       8.641261\n",
            "TOR         4.370586\n",
            "TORD        4.847699\n",
            "ORB        17.092699\n",
            "DRB         9.931664\n",
            "FTR        27.539614\n",
            "FTRD       39.011270\n",
            "2P_O       11.454624\n",
            "2P_D       11.159247\n",
            "3P_O        7.780941\n",
            "3P_D        5.835928\n",
            "ADJ_T      10.742807\n",
            "dtype: float64\n"
          ]
        }
      ]
    },
    {
      "cell_type": "code",
      "metadata": {
        "id": "uI5ba9mWysS0"
      },
      "source": [
        "# Splitting into Test/Train Data (70% Train 20% Test 10% Validation)\n",
        "x_train, x_test, y_train, y_test = sk.model_selection.train_test_split(x, y, test_size = 0.20,stratify = y, random_state = 7)\n",
        "B_train, B_test, B_y_train, B_y_test = sk.model_selection.train_test_split(B, y, test_size = 0.20, random_state = 7)\n",
        "# Splitting into Train/Validation Data\n",
        "x_train, x_val, y_train, y_val = sk.model_selection.train_test_split(x_train, y_train, test_size = 0.125, random_state = 7)\n",
        "B_train, B_val, B_y_train, B_y_val = sk.model_selection.train_test_split(B_train, B_y_train, test_size = 0.125, random_state = 7)\n"
      ],
      "execution_count": null,
      "outputs": []
    },
    {
      "cell_type": "code",
      "metadata": {
        "id": "YrSVoqqWNzdH",
        "colab": {
          "base_uri": "https://localhost:8080/"
        },
        "outputId": "b78c0801-5cd5-46f7-b16d-7c74f4a0d29d"
      },
      "source": [
        "# Logistic Regression\n",
        "lr = LogisticRegression(max_iter = 10000, random_state= 7) \n",
        "cv = cross_val_score(lr, x, y, cv = 5)\n",
        "print(\"Accuracy: %0.2f%% (+/- %0.2f%%)\" % (cv.mean() * 100.0, cv.std() * 2))\n",
        "\n",
        "### Model with Split Train/Test Data\n",
        "lr.fit(x_train, y_train)\n",
        "lr_probs = lr.predict_proba(x_test)          ## for ROC Curves\n",
        "lr_probs = lr_probs[:,1]                     ## Keep probabilities for value with 1 only\n",
        "preds = lr.predict(x_test)\n",
        "accuracy = accuracy_score(y_test, preds)\n",
        "print(\"Accuracy: %.2f%%\" % (accuracy * 100.0))\n",
        "\n",
        "# K-Fold Cross Validation Approach \n",
        "cv = KFold(n_splits = 5, random_state = 1, shuffle = True)\n",
        "accuracy = cross_val_score(lr, x, y, scoring = 'accuracy', cv = cv, n_jobs = -1)\n",
        "print('Accuracy: %.3f%%  (+/- %.3f%%)' % (np.mean(accuracy) * 100.0, np.std(accuracy) ))\n",
        "\n"
      ],
      "execution_count": null,
      "outputs": [
        {
          "output_type": "stream",
          "name": "stdout",
          "text": [
            "Accuracy: 90.22% (+/- 0.06%)\n",
            "Accuracy: 90.43%\n",
            "Accuracy: 90.672%  (+/- 0.009%)\n"
          ]
        }
      ]
    },
    {
      "cell_type": "code",
      "metadata": {
        "id": "doqv9AJTObR8",
        "colab": {
          "base_uri": "https://localhost:8080/"
        },
        "outputId": "31790af2-dbef-4e83-a700-26485a820a4b"
      },
      "source": [
        "#### Model with Transformed B_Train/Test Data                       ## Same accuracy with PCA (89-92%)\n",
        "lr_B = LogisticRegression(max_iter = 10000, random_state=7)\n",
        "cv = cross_val_score(lr_B, B, y, cv = 5)\n",
        "print(\"Accuracy: %0.2f%% (+/- %0.2f%%)\" % (cv.mean() * 100.0, cv.std() * 2))\n",
        "\n",
        "### Model with Split Train/Test Data\n",
        "lr_B.fit(B_train, B_y_train)\n",
        "lr_probs_B = lr_B.predict_proba(B_test)          ## for ROC Curves\n",
        "lr_probs_B = lr_probs_B[:,1]                     ## Keep probabilities for value with 1 only\n",
        "preds_lr_B = lr_B.predict(B_test)\n",
        "accuracy= accuracy_score(B_y_test, preds_lr_B)\n",
        "print(\"Accuracy: %.2f%%\" % (accuracy * 100.0))\n",
        "\n",
        "# K-Fold Cross Validation Approach \n",
        "cv = KFold(n_splits = 5, random_state = 7, shuffle = True)\n",
        "accuracy = cross_val_score(lr_B, B, y, scoring = 'accuracy', cv = cv, n_jobs = -1)\n",
        "print('Accuracy: %.3f%%  (+/- %.3f%%)' % (np.mean(accuracy) * 100.0, np.std(accuracy) ))\n",
        "\n"
      ],
      "execution_count": null,
      "outputs": [
        {
          "output_type": "stream",
          "name": "stdout",
          "text": [
            "Accuracy: 89.53% (+/- 0.06%)\n",
            "Accuracy: 91.85%\n",
            "Accuracy: 90.591%  (+/- 0.011%)\n"
          ]
        }
      ]
    },
    {
      "cell_type": "code",
      "metadata": {
        "id": "Lrunmqo1B0v9",
        "colab": {
          "base_uri": "https://localhost:8080/"
        },
        "outputId": "57cc1178-0292-4b07-fb5b-464357fd4036"
      },
      "source": [
        "# Logistic Regression Parameter Tuning\n",
        "\n",
        "solvers = ['newton-cg', 'lbfgs', 'liblinear', 'sag', 'saga']     \n",
        "penalty = ['none','l1','l2','elasticnet']\n",
        "C_lr = [100, 10, 1, 0.1, 0.01]\n",
        "\n",
        "param_grid_lr = dict(C = C_lr, penalty = penalty, solver = solvers)\n",
        "\n",
        "grid_search_lr = GridSearchCV(lr, param_grid = param_grid_lr, n_jobs = -1, error_score = 0 )\n",
        "grid_search_lr.fit(x_train,y_train)"
      ],
      "execution_count": null,
      "outputs": [
        {
          "output_type": "execute_result",
          "data": {
            "text/plain": [
              "GridSearchCV(error_score=0,\n",
              "             estimator=LogisticRegression(max_iter=10000, random_state=7),\n",
              "             n_jobs=-1,\n",
              "             param_grid={'C': [100, 10, 1, 0.1, 0.01],\n",
              "                         'penalty': ['none', 'l1', 'l2', 'elasticnet'],\n",
              "                         'solver': ['newton-cg', 'lbfgs', 'liblinear', 'sag',\n",
              "                                    'saga']})"
            ]
          },
          "metadata": {},
          "execution_count": 50
        }
      ]
    },
    {
      "cell_type": "code",
      "metadata": {
        "colab": {
          "base_uri": "https://localhost:8080/"
        },
        "id": "6IBNc2UCGnUq",
        "outputId": "53abf131-4e12-47f2-bd5b-73d7c94c7576"
      },
      "source": [
        "#Parameter Tuning for PCA\n",
        "\n",
        "grid_search_lr_B = GridSearchCV(lr_B, param_grid = param_grid_lr, n_jobs = -1, error_score = 0 )\n",
        "grid_search_lr_B.fit(B_train,B_y_train)"
      ],
      "execution_count": null,
      "outputs": [
        {
          "output_type": "execute_result",
          "data": {
            "text/plain": [
              "GridSearchCV(error_score=0,\n",
              "             estimator=LogisticRegression(max_iter=10000, random_state=7),\n",
              "             n_jobs=-1,\n",
              "             param_grid={'C': [100, 10, 1, 0.1, 0.01],\n",
              "                         'penalty': ['none', 'l1', 'l2', 'elasticnet'],\n",
              "                         'solver': ['newton-cg', 'lbfgs', 'liblinear', 'sag',\n",
              "                                    'saga']})"
            ]
          },
          "metadata": {},
          "execution_count": 51
        }
      ]
    },
    {
      "cell_type": "code",
      "metadata": {
        "colab": {
          "base_uri": "https://localhost:8080/"
        },
        "id": "vLDvTOO9KNyj",
        "outputId": "a2539b65-3c97-4f5a-d0cf-f74842b8fe76"
      },
      "source": [
        "## Best Model from Hyper Parameters\n",
        "\n",
        "print(grid_search_lr.best_params_)\n",
        "print(grid_search_lr.best_estimator_)\n",
        "\n",
        "grid_pred_lr = grid_search_lr.predict(x_test)           \n",
        "accuracy_grid_lr = accuracy_score(y_test, grid_pred_lr)\n",
        "print(\"Accuracy: %.2f%%\" % (accuracy_grid_lr * 100))"
      ],
      "execution_count": null,
      "outputs": [
        {
          "output_type": "stream",
          "name": "stdout",
          "text": [
            "{'C': 10, 'penalty': 'l1', 'solver': 'liblinear'}\n",
            "LogisticRegression(C=10, max_iter=10000, penalty='l1', random_state=7,\n",
            "                   solver='liblinear')\n",
            "Accuracy: 92.06%\n"
          ]
        }
      ]
    },
    {
      "cell_type": "code",
      "metadata": {
        "colab": {
          "base_uri": "https://localhost:8080/"
        },
        "id": "8CDiiw1fHENr",
        "outputId": "b80fbe6c-9a62-4c49-a6fa-09b37609af41"
      },
      "source": [
        "## Best Model from Hyper Parameters for B data\n",
        "\n",
        "print(grid_search_lr_B.best_params_)\n",
        "print(grid_search_lr_B.best_estimator_)\n",
        "\n",
        "grid_pred_lr_B = grid_search_lr_B.predict(B_test)           \n",
        "accuracy_grid_lr_B = accuracy_score(B_y_test, grid_pred_lr_B)\n",
        "print(\"Accuracy: %.2f%%\" % (accuracy_grid_lr_B * 100))"
      ],
      "execution_count": null,
      "outputs": [
        {
          "output_type": "stream",
          "name": "stdout",
          "text": [
            "{'C': 100, 'penalty': 'none', 'solver': 'newton-cg'}\n",
            "LogisticRegression(C=100, max_iter=10000, penalty='none', random_state=7,\n",
            "                   solver='newton-cg')\n",
            "Accuracy: 91.85%\n"
          ]
        }
      ]
    },
    {
      "cell_type": "code",
      "metadata": {
        "colab": {
          "base_uri": "https://localhost:8080/"
        },
        "id": "i361bjraUG1Y",
        "outputId": "10f5b70b-5cd8-4c8a-fbe2-0900dfa2c5f8"
      },
      "source": [
        "# Logistic Regression Model Evaluation\n",
        "# https://towardsdatascience.com/should-i-look-at-precision-recall-or-specificity-sensitivity-3946158aace1\n",
        "\n",
        "##### Confusion Matrix for Parameter Optimization\n",
        "cm = skm.confusion_matrix(y_test, grid_pred_lr)\n",
        "print('Confusion Matrix:', cm)\n",
        "\n",
        "##### Confusion Matrix for Transformed B Data   \n",
        "#cm = skm.confusion_matrix(B_y_test, preds_lr_B)\n",
        "#print('Confusion Matrix:', cm)\n",
        "\n",
        "\n",
        "##### Confusion Matrix          Baseline\n",
        "#cm = skm.confusion_matrix(y_test, preds)\n",
        "#print('Confusion Matrix:', cm)\n",
        "\n",
        "# Senstivity\n",
        "# TP/(TP + FN)\n",
        "sensitivity = cm[1,1]/(cm[1,1] + cm[1,0])\n",
        "print('Sensitivity: ', sensitivity )\n",
        "\n",
        "# Specificity\n",
        "# TN/(TN + FP)\n",
        "specificity = cm[0,0]/(cm[0,0] + cm[0,1])\n",
        "print('Specificity: ', specificity)\n",
        "\n",
        "# Precision\n",
        "# TP/(TP + FP)\n",
        "precision = cm[1,1]/(cm[1,1] + cm[0,1])\n",
        "print('Precision: ', precision)\n",
        "\n",
        "# Recall\n",
        "# TP/(TP + FN)\n",
        "recall = cm[1,1]/(cm[1,1] + cm[1,0])\n",
        "print('Recall: ', recall)\n",
        "\n",
        "# F1 Score: https://scikit-learn.org/stable/modules/generated/sklearn.metrics.f1_score.html\n",
        "f1 = 2 * (precision * recall) / (precision + recall)\n",
        "print('F1 Score: ', f1)"
      ],
      "execution_count": null,
      "outputs": [
        {
          "output_type": "stream",
          "name": "stdout",
          "text": [
            "Confusion Matrix: [[382  14]\n",
            " [ 25  70]]\n",
            "Sensitivity:  0.7368421052631579\n",
            "Specificity:  0.9646464646464646\n",
            "Precision:  0.8333333333333334\n",
            "Recall:  0.7368421052631579\n",
            "F1 Score:  0.782122905027933\n"
          ]
        }
      ]
    },
    {
      "cell_type": "markdown",
      "metadata": {
        "id": "em9HzOodKfrC"
      },
      "source": [
        "**CONFUSION MATRIX FOR BEST PARAMETERS**\n",
        "\n",
        "Confusion Matrix: [[382  14]\n",
        " [ 25  70]]\n",
        "\n",
        "\n",
        "---\n",
        "\n",
        "\n",
        "Sensitivity:  0.7368421052631579\n",
        "\n",
        "\n",
        "---\n",
        "\n",
        "\n",
        "Specificity:  0.9646464646464646\n",
        "\n",
        "\n",
        "---\n",
        "\n",
        "\n",
        "Precision:  0.8333333333333334\n",
        "\n",
        "\n",
        "---\n",
        "\n",
        "\n",
        "Recall:  0.7368421052631579\n",
        "\n",
        "\n",
        "---\n",
        "\n",
        "\n",
        "F1 Score:  0.782122905027933"
      ]
    },
    {
      "cell_type": "markdown",
      "metadata": {
        "id": "tFGZ1V2YW3td"
      },
      "source": [
        "\n",
        "\n",
        "**PCA CONFUSION MATRIX**"
      ]
    },
    {
      "cell_type": "markdown",
      "metadata": {
        "id": "5eFQn1nlW1Sr"
      },
      "source": [
        "Confusion Matrix: \n",
        "[[374  19]\n",
        " [ 38  60]]\n",
        "\n",
        "---\n",
        "\n",
        "\n",
        "Sensitivity:  0.7363636363636363\n",
        "\n",
        "---\n",
        "\n",
        "\n",
        "Specificity:  0.9711286089238845\n",
        "\n",
        "---\n",
        "\n",
        "\n",
        "Precision:  0.8804347826086957\n",
        "\n",
        "---\n",
        "\n",
        "\n",
        "\n",
        "Recall:  0.7363636363636363\n",
        "\n",
        "---\n",
        "\n",
        "F1 Score:  0.8019801980198019"
      ]
    },
    {
      "cell_type": "code",
      "metadata": {
        "colab": {
          "base_uri": "https://localhost:8080/",
          "height": 279
        },
        "id": "Jg3P5IFnLz-2",
        "outputId": "9c4f50d0-f1a9-461a-a9e0-f45a48a3462a"
      },
      "source": [
        "# Logistic Regression ROC Curve \n",
        "lr_fpr, lr_tpr, _ = skm.roc_curve(y_test, lr_probs)\n",
        "plt.plot(lr_fpr, lr_tpr, marker='.', label = 'Logistic')\n",
        "plt.xlabel('False Positive Rate')\n",
        "plt.ylabel('True Positive Rate')\n",
        "plt.legend()\n",
        "plt.show()"
      ],
      "execution_count": null,
      "outputs": [
        {
          "output_type": "display_data",
          "data": {
            "image/png": "[encoded data removed]",
            "text/plain": [
              "<Figure size 432x288 with 1 Axes>"
            ]
          },
          "metadata": {
            "needs_background": "light"
          }
        }
      ]
    },
    {
      "cell_type": "code",
      "metadata": {
        "id": "R2cj6k6WtFAx",
        "colab": {
          "base_uri": "https://localhost:8080/"
        },
        "outputId": "7c51838c-ec0d-4119-8f45-d21624746640"
      },
      "source": [
        "# Hyperparameter tweaking for XGBoost using Bayesian Optimization\n",
        "##### https://aiinpractice.com/xgboost-hyperparameter-tuning-with-bayesian-optimization/\n",
        "##### https://github.com/fmfn/BayesianOptimization/blob/master/examples/sklearn_example.py\n",
        "\n",
        "# Define function that returns the mean of cross validation scores per hyperparameters passed in\n",
        "def xgboost_crossval(n_estimators, max_depth, learning_rate, gamma):\n",
        "\n",
        "  # Cast max_depth and n_estimators to integers\n",
        "  max_depth = int(max_depth)\n",
        "  n_estimators = int(n_estimators)\n",
        "\n",
        "  # Train model and calculate cross validation score\n",
        "  xg_class = xgb.XGBClassifier(n_estimators=n_estimators, max_depth=max_depth, learning_rate=learning_rate, gamma=gamma, seed = 7)\n",
        "  accuracy = cross_val_score(xg_class, x_train, y_train, scoring='accuracy', cv=5) \n",
        "  \n",
        "  # Return mean of cross_val_scores\n",
        "  return np.mean(accuracy)\n",
        "\n",
        "\n",
        "# Call BayesionOptimization to check scores for various hyperparameters\n",
        "optimizer = BayesianOptimization(\n",
        "            f=xgboost_crossval,\n",
        "            pbounds={'n_estimators': (5, 100),\n",
        "                       'max_depth': (2,10),\n",
        "                       'learning_rate': (0.01, 1.0),\n",
        "                       'gamma': (1, 5)},\n",
        "            random_state=7)\n",
        "\n",
        "optimizer.maximize(n_iter=10)\n",
        "print('Optimal XGBoost hyperparameters per BayesianOptimization: ', optimizer.max)"
      ],
      "execution_count": null,
      "outputs": [
        {
          "output_type": "stream",
          "name": "stdout",
          "text": [
            "|   iter    |  target   |   gamma   | learni... | max_depth | n_esti... |\n",
            "-------------------------------------------------------------------------\n",
            "| \u001b[0m 1       \u001b[0m | \u001b[0m 0.9051  \u001b[0m | \u001b[0m 1.305   \u001b[0m | \u001b[0m 0.7821  \u001b[0m | \u001b[0m 5.507   \u001b[0m | \u001b[0m 73.73   \u001b[0m |\n",
            "| \u001b[95m 2       \u001b[0m | \u001b[95m 0.9069  \u001b[0m | \u001b[95m 4.912   \u001b[0m | \u001b[95m 0.5431  \u001b[0m | \u001b[95m 6.009   \u001b[0m | \u001b[95m 11.84   \u001b[0m |\n",
            "| \u001b[95m 3       \u001b[0m | \u001b[95m 0.9069  \u001b[0m | \u001b[95m 2.074   \u001b[0m | \u001b[95m 0.5049  \u001b[0m | \u001b[95m 7.434   \u001b[0m | \u001b[95m 81.36   \u001b[0m |\n",
            "| \u001b[95m 4       \u001b[0m | \u001b[95m 0.9109  \u001b[0m | \u001b[95m 2.524   \u001b[0m | \u001b[95m 0.07528 \u001b[0m | \u001b[95m 4.305   \u001b[0m | \u001b[95m 91.41   \u001b[0m |\n",
            "| \u001b[0m 5       \u001b[0m | \u001b[0m 0.9086  \u001b[0m | \u001b[0m 1.854   \u001b[0m | \u001b[0m 0.4576  \u001b[0m | \u001b[0m 9.45    \u001b[0m | \u001b[0m 7.365   \u001b[0m |\n",
            "| \u001b[0m 6       \u001b[0m | \u001b[0m 0.9034  \u001b[0m | \u001b[0m 1.77    \u001b[0m | \u001b[0m 0.3848  \u001b[0m | \u001b[0m 7.482   \u001b[0m | \u001b[0m 68.23   \u001b[0m |\n",
            "| \u001b[0m 7       \u001b[0m | \u001b[0m 0.9069  \u001b[0m | \u001b[0m 5.0     \u001b[0m | \u001b[0m 0.01    \u001b[0m | \u001b[0m 2.0     \u001b[0m | \u001b[0m 100.0   \u001b[0m |\n",
            "| \u001b[0m 8       \u001b[0m | \u001b[0m 0.9104  \u001b[0m | \u001b[0m 1.0     \u001b[0m | \u001b[0m 0.4264  \u001b[0m | \u001b[0m 9.542   \u001b[0m | \u001b[0m 92.48   \u001b[0m |\n",
            "| \u001b[0m 9       \u001b[0m | \u001b[0m 0.8964  \u001b[0m | \u001b[0m 5.0     \u001b[0m | \u001b[0m 1.0     \u001b[0m | \u001b[0m 8.243   \u001b[0m | \u001b[0m 90.27   \u001b[0m |\n",
            "| \u001b[0m 10      \u001b[0m | \u001b[0m 0.9011  \u001b[0m | \u001b[0m 4.557   \u001b[0m | \u001b[0m 0.9928  \u001b[0m | \u001b[0m 3.356   \u001b[0m | \u001b[0m 19.56   \u001b[0m |\n",
            "| \u001b[0m 11      \u001b[0m | \u001b[0m 0.9069  \u001b[0m | \u001b[0m 2.191   \u001b[0m | \u001b[0m 0.3757  \u001b[0m | \u001b[0m 3.399   \u001b[0m | \u001b[0m 33.46   \u001b[0m |\n",
            "| \u001b[0m 12      \u001b[0m | \u001b[0m 0.9092  \u001b[0m | \u001b[0m 3.081   \u001b[0m | \u001b[0m 0.5498  \u001b[0m | \u001b[0m 6.272   \u001b[0m | \u001b[0m 13.52   \u001b[0m |\n",
            "| \u001b[0m 13      \u001b[0m | \u001b[0m 0.9063  \u001b[0m | \u001b[0m 2.299   \u001b[0m | \u001b[0m 0.3153  \u001b[0m | \u001b[0m 3.71    \u001b[0m | \u001b[0m 90.47   \u001b[0m |\n",
            "| \u001b[0m 14      \u001b[0m | \u001b[0m 0.904   \u001b[0m | \u001b[0m 2.212   \u001b[0m | \u001b[0m 0.4955  \u001b[0m | \u001b[0m 3.796   \u001b[0m | \u001b[0m 91.73   \u001b[0m |\n",
            "| \u001b[0m 15      \u001b[0m | \u001b[0m 0.9063  \u001b[0m | \u001b[0m 2.34    \u001b[0m | \u001b[0m 0.7546  \u001b[0m | \u001b[0m 8.277   \u001b[0m | \u001b[0m 60.08   \u001b[0m |\n",
            "=========================================================================\n",
            "Optimal XGBoost hyperparameters per BayesianOptimization:  {'target': 0.9109481998779577, 'params': {'gamma': 2.5237645325941536, 'learning_rate': 0.07527698343684605, 'max_depth': 4.305164794463948, 'n_estimators': 91.4113851333633}}\n"
          ]
        }
      ]
    },
    {
      "cell_type": "code",
      "metadata": {
        "id": "j0-W-_xbN1Ft",
        "colab": {
          "base_uri": "https://localhost:8080/"
        },
        "outputId": "eb728c7c-4f11-4749-eeb4-cddf60029d71"
      },
      "source": [
        "# XGBoost\n",
        "# https://github.com/dmlc/xgboost/blob/master/python-package/xgboost/sklearn.py\n",
        "# https://xgboost.readthedocs.io/en/latest/python/python_api.html\n",
        "# https://github.com/isakbosman/CS271P/blob/952919dab5f2fef80a38a4c8a614da7f5e63be5f/nbs/CS271P_Lab_2_XGBoost_Heart_Disease.ipynb\n",
        "\n",
        "#XGBoost Model w/ tweaked Hyperparameters\n",
        "\n",
        "# Hyperparameters calculated with BayesianOptimization\n",
        "xg_class = xgb.XGBClassifier(max_depth=int(optimizer.max['params']['max_depth']), \n",
        "                             learning_rate=optimizer.max['params']['learning_rate'],\n",
        "                             n_estimators = int(optimizer.max['params']['n_estimators']),\n",
        "                             gamma=optimizer.max['params']['gamma'], seed=7)\n",
        "\n",
        "xg_class.fit(x_train, y_train, eval_set=[(x_train, y_train), (x_val, y_val)], early_stopping_rounds=4)\n",
        "\n",
        "preds = xg_class.predict(x_test)\n",
        "\n",
        "accuracy = accuracy_score(y_test, preds)\n",
        "print(\"Accuracy: %.2f%%\" % (accuracy * 100.0))\n",
        "\n",
        "# Baseline w/ Cross Validation\n",
        "xg_classcv = xgb.XGBClassifier(seed=7)\n",
        "xgcv = cross_val_score(xg_classcv, x, y, cv = 5)\n",
        "print(\"Accuracy: %0.2f%% (+/- %0.2f%%)\" % (xgcv.mean() * 100.0, xgcv.std() * 2))\n",
        "\n",
        "# K-Fold Cross Validation Approach \n",
        "cv = KFold(n_splits = 5, random_state = 7, shuffle = True)\n",
        "accuracy = cross_val_score(xg_classcv, x, y, scoring = 'accuracy', cv = cv, n_jobs = -1)\n",
        "print('Accuracy: %.3f%%  (+/- %.3f%%)' % (np.mean(accuracy) * 100.0, np.std(accuracy) ))\n",
        "\n"
      ],
      "execution_count": null,
      "outputs": [
        {
          "output_type": "stream",
          "name": "stdout",
          "text": [
            "[0]\tvalidation_0-error:0.073341\tvalidation_1-error:0.089431\n",
            "Multiple eval metrics have been passed: 'validation_1-error' will be used for early stopping.\n",
            "\n",
            "Will train until validation_1-error hasn't improved in 4 rounds.\n",
            "[1]\tvalidation_0-error:0.06752\tvalidation_1-error:0.093496\n",
            "[2]\tvalidation_0-error:0.06752\tvalidation_1-error:0.105691\n",
            "[3]\tvalidation_0-error:0.068102\tvalidation_1-error:0.101626\n",
            "[4]\tvalidation_0-error:0.066938\tvalidation_1-error:0.089431\n",
            "Stopping. Best iteration:\n",
            "[0]\tvalidation_0-error:0.073341\tvalidation_1-error:0.089431\n",
            "\n",
            "Accuracy: 90.43%\n",
            "Accuracy: 90.63% (+/- 0.07%)\n",
            "Accuracy: 91.405%  (+/- 0.008%)\n"
          ]
        }
      ]
    },
    {
      "cell_type": "code",
      "metadata": {
        "id": "CL1zNXEiPvnW",
        "colab": {
          "base_uri": "https://localhost:8080/"
        },
        "outputId": "2ae9d296-5532-43c6-9c8c-02b9777f87ad"
      },
      "source": [
        "#Leave-One-Out-Cross-Validation -- Source: https://machinelearningmastery.com/loocv-for-evaluating-machine-learning-algorithms/\n",
        "loocv = sk.model_selection.LeaveOneOut()\n",
        "\n",
        "accuracy = cross_val_score(xg_class, x, y, scoring='accuracy', cv=loocv, n_jobs=-1)\n",
        "print('Accuracy: %.3f%%  (+/- %.3f%%)' % (np.mean(accuracy) * 100.0, np.std(accuracy) ))"
      ],
      "execution_count": null,
      "outputs": [
        {
          "output_type": "stream",
          "name": "stdout",
          "text": [
            "Accuracy: 91.527%  (+/- 0.278%)\n"
          ]
        }
      ]
    },
    {
      "cell_type": "code",
      "metadata": {
        "id": "HVF0rNE-Peu7",
        "colab": {
          "base_uri": "https://localhost:8080/"
        },
        "outputId": "8fac98c6-2dc1-4ebf-c0e0-6ece0d7fe589"
      },
      "source": [
        "## Baseline w/ PCA Data\n",
        "\n",
        "xg_class_B = xgb.XGBClassifier(seed=7)\n",
        "xg_class_B.fit(B_train, B_y_train, eval_set=[(B_train, B_y_train), (B_val, B_y_val)], early_stopping_rounds=4)\n",
        "\n",
        "preds_B = xg_class_B.predict(B_test)\n",
        "\n",
        "accuracy_B = accuracy_score(B_y_test, preds_B)\n",
        "print(\"Accuracy: %.2f%%\" % (accuracy_B * 100.0))"
      ],
      "execution_count": null,
      "outputs": [
        {
          "output_type": "stream",
          "name": "stdout",
          "text": [
            "[0]\tvalidation_0-error:0.09837\tvalidation_1-error:0.130081\n",
            "Multiple eval metrics have been passed: 'validation_1-error' will be used for early stopping.\n",
            "\n",
            "Will train until validation_1-error hasn't improved in 4 rounds.\n",
            "[1]\tvalidation_0-error:0.090803\tvalidation_1-error:0.121951\n",
            "[2]\tvalidation_0-error:0.089057\tvalidation_1-error:0.121951\n",
            "[3]\tvalidation_0-error:0.086729\tvalidation_1-error:0.134146\n",
            "[4]\tvalidation_0-error:0.086147\tvalidation_1-error:0.138211\n",
            "[5]\tvalidation_0-error:0.087893\tvalidation_1-error:0.138211\n",
            "Stopping. Best iteration:\n",
            "[1]\tvalidation_0-error:0.090803\tvalidation_1-error:0.121951\n",
            "\n",
            "Accuracy: 89.61%\n"
          ]
        }
      ]
    },
    {
      "cell_type": "code",
      "metadata": {
        "colab": {
          "base_uri": "https://localhost:8080/"
        },
        "id": "AxF-VLZs2Anf",
        "outputId": "8cb2639d-e5dc-4432-80e2-7dd77c3b7178"
      },
      "source": [
        "# XGBoost Model Evaluation\n",
        "#Confusion Matrix for PCA\n",
        "#cm = skm.confusion_matrix(B_y_test, preds_B)\n",
        "#print('Confusion Matrix:', cm)\n",
        "\n",
        "\n",
        "# Confusion Matrix\n",
        "cm = skm.confusion_matrix(y_test, preds)\n",
        "print('Confusion Matrix:', cm)\n",
        "\n",
        "# Senstivity\n",
        "# TP/(TP + FN)\n",
        "sensitivity = cm[1,1]/(cm[1,1] + cm[1,0])\n",
        "print('Sensitivity: ', sensitivity )\n",
        "\n",
        "# Specificity\n",
        "# TN/(TN + FP)\n",
        "specificity = cm[0,0]/(cm[0,0] + cm[0,1])\n",
        "print('Specificity: ', specificity)\n",
        "\n",
        "# Precision\n",
        "# TP/(TP + FP)\n",
        "precision = cm[1,1]/(cm[1,1] + cm[0,1])\n",
        "print('Precision: ', precision)\n",
        "\n",
        "# Recall\n",
        "# TP/(TP + FN)\n",
        "recall = cm[1,1]/(cm[1,1] + cm[1,0])\n",
        "print('Recall: ', recall)\n",
        "\n",
        "# F1 Score: https://scikit-learn.org/stable/modules/generated/sklearn.metrics.f1_score.html\n",
        "f1 = 2 * (precision * recall) / (precision + recall)\n",
        "print('F1 Score: ', f1)"
      ],
      "execution_count": null,
      "outputs": [
        {
          "output_type": "stream",
          "name": "stdout",
          "text": [
            "Confusion Matrix: [[376  20]\n",
            " [ 27  68]]\n",
            "Sensitivity:  0.7157894736842105\n",
            "Specificity:  0.9494949494949495\n",
            "Precision:  0.7727272727272727\n",
            "Recall:  0.7157894736842105\n",
            "F1 Score:  0.7431693989071039\n"
          ]
        }
      ]
    },
    {
      "cell_type": "markdown",
      "metadata": {
        "id": "C70-T4lT9AUb"
      },
      "source": [
        "**Confusion Matrix:  XGBoost with Tuned HyperParameters**\n",
        "\n",
        "\n",
        "\n",
        "---\n",
        "\n",
        "\n",
        "\n",
        "Sensitivity:  0.7157894736842105\n",
        "\n",
        "\n",
        "---\n",
        "\n",
        "\n",
        "Specificity:  0.9494949494949495\n",
        "\n",
        "\n",
        "---\n",
        "\n",
        "\n",
        "Precision:  0.7727272727272727\n",
        "\n",
        "---\n",
        "\n",
        "Recall:  0.7157894736842105\n",
        "\n",
        "---\n",
        "\n",
        "F1 Score: 0.7431693989071039\n"
      ]
    },
    {
      "cell_type": "markdown",
      "metadata": {
        "id": "JZAbwzdWDGN5"
      },
      "source": [
        "**PCA CM Data for XGBOOST**\n",
        "\n",
        "Confusion Matrix: [[371  10]\n",
        " [ 35  75]]\n",
        "\n",
        "\n",
        "---\n",
        "\n",
        "\n",
        "Sensitivity:  0.6818181818181818\n",
        "\n",
        "\n",
        "---\n",
        "\n",
        "\n",
        "Specificity:  0.973753280839895\n",
        "\n",
        "\n",
        "---\n",
        "\n",
        "\n",
        "Precision:  0.8823529411764706\n",
        "\n",
        "\n",
        "---\n",
        "\n",
        "\n",
        "Recall:  0.6818181818181818\n",
        "\n",
        "\n",
        "---\n",
        "\n",
        "\n",
        "F1 Score:  0.7692307692307693"
      ]
    },
    {
      "cell_type": "code",
      "metadata": {
        "id": "hpmSfz2y9L9Y",
        "colab": {
          "base_uri": "https://localhost:8080/"
        },
        "outputId": "bf898a3a-c374-4c5d-98b2-9ebc1d3564cc"
      },
      "source": [
        "# Support Vector Machine\n",
        "svm = SVC(random_state=7) \n",
        "cv = cross_val_score(svm, x, y, cv = 5)\n",
        "print(cv)\n",
        "print(\"Accuracy: %0.2f%% (+/- %0.2f%%)\" % (cv.mean() * 100.0, cv.std() * 2))\n",
        "\n",
        "svm.fit(x_train, y_train)\n",
        "preds = svm.predict(x_test)\n",
        "accuracy = accuracy_score(y_test, preds)\n",
        "print(\"Accuracy: %.2f%%\" % (accuracy * 100.0))\n"
      ],
      "execution_count": null,
      "outputs": [
        {
          "output_type": "stream",
          "name": "stdout",
          "text": [
            "[0.92668024 0.89613035 0.86558045 0.85743381 0.90020367]\n",
            "Accuracy: 88.92% (+/- 0.05%)\n",
            "Accuracy: 90.84%\n"
          ]
        }
      ]
    },
    {
      "cell_type": "markdown",
      "metadata": {
        "id": "Cz8tBfIBQljp"
      },
      "source": [
        "\n",
        "*   Baseline Model Accuracy (w/ Cross Validation): 90.22% +/- 0.07%\n",
        "*   Baseline: 91.65\n",
        "\n",
        "\n",
        "\n"
      ]
    },
    {
      "cell_type": "code",
      "metadata": {
        "id": "F0IysdRbQKn3",
        "colab": {
          "base_uri": "https://localhost:8080/"
        },
        "outputId": "a05471b0-411d-4dbb-a119-94b948d19e4a"
      },
      "source": [
        "# PCA svm\n",
        "svm_B = SVC(random_state=7)\n",
        "cv = cross_val_score(svm_B, B, y, cv=5)\n",
        "print(cv)\n",
        "print(\"Accuracy: %0.2f%% (+/- %0.2f%%)\" % (cv.mean() * 100.0, cv.std() * 2))\n",
        "\n",
        "svm_B.fit(B_train, B_y_train)\n",
        "preds_B = svm_B.predict(B_test)\n",
        "accuracy_B = accuracy_score(B_y_test, preds_B)\n",
        "print(\"Accuracy: %.2f%%\" % (accuracy_B * 100))"
      ],
      "execution_count": null,
      "outputs": [
        {
          "output_type": "stream",
          "name": "stdout",
          "text": [
            "[0.93482688 0.93482688 0.84725051 0.86150713 0.88594705]\n",
            "Accuracy: 89.29% (+/- 0.07%)\n",
            "Accuracy: 90.84%\n"
          ]
        }
      ]
    },
    {
      "cell_type": "code",
      "metadata": {
        "id": "3ftfnT3ml6S2",
        "colab": {
          "base_uri": "https://localhost:8080/"
        },
        "outputId": "79842948-8dfa-46b7-f297-5663af272912"
      },
      "source": [
        "#Parameter Tuning for Support Vector Machine\n",
        "\n",
        "kernel = ['polynomial','linear','sigmoid']\n",
        "C = [100, 50, 10, 5, 1, 0.1]\n",
        "gamma = ['scale']\n",
        "param_grid = dict(C=C, gamma = gamma, kernel = kernel)\n",
        "grid_search = GridSearchCV(svm, param_grid = param_grid, n_jobs = -1, error_score = 0)\n",
        "grid_search.fit(x_train,y_train)\n",
        "\n",
        "print(grid_search.best_params_)\n",
        "print(grid_search.best_estimator_)\n",
        "\n",
        "grid_pred = grid_search.predict(x_test)           \n",
        "accuracy_grid = accuracy_score(y_test, grid_pred)\n",
        "print(\"Accuracy: %.2f%%\" % (accuracy_grid * 100))"
      ],
      "execution_count": null,
      "outputs": [
        {
          "output_type": "stream",
          "name": "stdout",
          "text": [
            "{'C': 100, 'gamma': 'scale', 'kernel': 'linear'}\n",
            "SVC(C=100, kernel='linear', random_state=7)\n",
            "Accuracy: 91.45%\n"
          ]
        }
      ]
    },
    {
      "cell_type": "code",
      "metadata": {
        "colab": {
          "base_uri": "https://localhost:8080/"
        },
        "id": "dDeS7nrbLlO-",
        "outputId": "6f078196-59cd-46fe-a64e-3e0486acba7f"
      },
      "source": [
        "#Parameter Tuning for Support Vector Machine PCA\n",
        "\n",
        "\n",
        "grid_search_B = GridSearchCV(svm_B, param_grid = param_grid, n_jobs = -1, error_score = 0 )\n",
        "grid_search_B.fit(B_train,B_y_train)\n",
        "\n",
        "print(grid_search_B.best_params_)\n",
        "print(grid_search_B.best_estimator_)\n",
        "\n",
        "grid_pred_B = grid_search_B.predict(B_test)           \n",
        "accuracy_grid_B = accuracy_score(B_y_test, grid_pred_B)\n",
        "print(\"Accuracy: %.2f%%\" % (accuracy_grid_B * 100))"
      ],
      "execution_count": null,
      "outputs": [
        {
          "output_type": "stream",
          "name": "stdout",
          "text": [
            "{'C': 0.1, 'gamma': 'scale', 'kernel': 'linear'}\n",
            "SVC(C=0.1, kernel='linear', random_state=7)\n",
            "Accuracy: 91.65%\n"
          ]
        }
      ]
    },
    {
      "cell_type": "markdown",
      "metadata": {
        "id": "YFTnLzIw5USf"
      },
      "source": [
        "LINEAR KERNEL GIVES 92.26% on this seed?\n",
        "RBF KERNEL Accuracy: 90.63%"
      ]
    },
    {
      "cell_type": "code",
      "metadata": {
        "id": "-qZZGLj4sQ3e",
        "colab": {
          "base_uri": "https://localhost:8080/"
        },
        "outputId": "e0c4829a-029d-4e2d-90bc-b50e70f3f34e"
      },
      "source": [
        "# Support Vector Machine Model Evaluation\n",
        "# Confusion Matrix\n",
        "\n",
        "#cm = skm.confusion_matrix(y_test, grid_pred)\n",
        "#print('Confusion Matrix:', cm)\n",
        "\n",
        "#Confusion Matrix for PCA B Data\n",
        "#cm = skm.confusion_matrix(B_y_test, preds_B)\n",
        "#print('Confusion Matrix:', cm)\n",
        "\n",
        "# Confusion Matrix\n",
        "cm = skm.confusion_matrix(y_test, preds)\n",
        "print('Confusion Matrix:', cm)\n",
        "\n",
        "# Senstivity\n",
        "# TP/(TP + FN)\n",
        "sensitivity = cm[1,1]/(cm[1,1] + cm[1,0])\n",
        "print('Sensitivity: ', sensitivity )\n",
        "\n",
        "# Specificity\n",
        "# TN/(TN + FP)\n",
        "specificity = cm[0,0]/(cm[0,0] + cm[0,1])\n",
        "print('Specificity: ', specificity)\n",
        "\n",
        "# Precision\n",
        "# TP/(TP + FP)\n",
        "precision = cm[1,1]/(cm[1,1] + cm[0,1])\n",
        "print('Precision: ', precision)\n",
        "\n",
        "# Recall\n",
        "# TP/(TP + FN)\n",
        "recall = cm[1,1]/(cm[1,1] + cm[1,0])\n",
        "print('Recall: ', recall)\n",
        "\n",
        "# F1 Score: https://scikit-learn.org/stable/modules/generated/sklearn.metrics.f1_score.html\n",
        "f1 = 2 * (precision * recall) / (precision + recall)\n",
        "print('F1 Score: ', f1)"
      ],
      "execution_count": null,
      "outputs": [
        {
          "output_type": "stream",
          "name": "stdout",
          "text": [
            "Confusion Matrix: [[390   6]\n",
            " [ 39  56]]\n",
            "Sensitivity:  0.5894736842105263\n",
            "Specificity:  0.9848484848484849\n",
            "Precision:  0.9032258064516129\n",
            "Recall:  0.5894736842105263\n",
            "F1 Score:  0.7133757961783439\n"
          ]
        }
      ]
    },
    {
      "cell_type": "markdown",
      "metadata": {
        "id": "lbBSc8Lbe0io"
      },
      "source": [
        "**Confusion Matrix for Tuned HyperParameters**\n",
        "\n",
        "Confusion Matrix: [[379  17]\n",
        " [ 25  70]]\n",
        "\n",
        "\n",
        "---\n",
        "\n",
        "\n",
        "Sensitivity:  0.7368421052631579\n",
        "\n",
        "\n",
        "---\n",
        "\n",
        "\n",
        "Specificity:  0.9570707070707071\n",
        "\n",
        "\n",
        "---\n",
        "\n",
        "\n",
        "Precision:  0.8045977011494253\n",
        "\n",
        "\n",
        "---\n",
        "\n",
        "\n",
        "Recall:  0.7368421052631579\n",
        "\n",
        "\n",
        "---\n",
        "\n",
        "\n",
        "F1 Score:  0.7692307692307692"
      ]
    },
    {
      "cell_type": "markdown",
      "metadata": {
        "id": "sMnVjwpfFope"
      },
      "source": [
        "**PCA Confusion Matrix for SVM** \n",
        "\n",
        "Confusion Matrix: [[371  10]\n",
        " [ 35  75]]\n",
        "\n",
        "\n",
        "---\n",
        "\n",
        "\n",
        "Sensitivity:  0.6818181818181818\n",
        "\n",
        "\n",
        "---\n",
        "\n",
        "\n",
        "Specificity:  0.973753280839895\n",
        "\n",
        "\n",
        "---\n",
        "\n",
        "\n",
        "Precision:  0.8823529411764706\n",
        "\n",
        "\n",
        "---\n",
        "\n",
        "\n",
        "Recall:  0.6818181818181818\n",
        "\n",
        "\n",
        "---\n",
        "\n",
        "\n",
        "F1 Score:  0.7692307692307693"
      ]
    },
    {
      "cell_type": "code",
      "metadata": {
        "id": "QZJDwD6lpP2y"
      },
      "source": [
        "# Set LeakyReLU \n",
        "LeakyReLU = LeakyReLU(alpha=0.1)"
      ],
      "execution_count": null,
      "outputs": []
    },
    {
      "cell_type": "code",
      "metadata": {
        "id": "dcq7Y8tit6GO"
      },
      "source": [
        "# Make scorer accuracy\n",
        "score_acc = make_scorer(accuracy_score)"
      ],
      "execution_count": null,
      "outputs": []
    },
    {
      "cell_type": "code",
      "metadata": {
        "id": "rYf9YUyiX0-n"
      },
      "source": [
        "# Convert to int\n",
        "y = LabelEncoder().fit_transform(y)\n",
        "y_test = LabelEncoder().fit_transform(y_test)\n",
        "y_train = LabelEncoder().fit_transform(y_train)\n",
        "y_val = LabelEncoder().fit_transform(y_val)"
      ],
      "execution_count": null,
      "outputs": []
    },
    {
      "cell_type": "code",
      "metadata": {
        "id": "gjXQrpUet7Sb"
      },
      "source": [
        "# Hyperparameter Tuning w/ BaysianOptimization for Deep Learning\n",
        "# https://www.analyticsvidhya.com/blog/2021/05/tuning-the-hyperparameters-and-layers-of-neural-network-deep-learning/\n",
        "# Create function\n",
        "def nn_cl_bo(neurons, activation, optimizer, learning_rate,  batch_size, epochs, layers1, layers2,\n",
        "             normalization, dropout, dropout_rate):\n",
        "    #layeropt = ['SGD', 'Adam', 'RMSprop', 'Adadelta', 'Adagrad', 'Adamax', 'Ftrl']    # https://keras.io/api/optimizers/\n",
        "    #denseopt = {'Adam':Adam(lr=learning_rate), 'SGD':SGD(lr=learning_rate),\n",
        "    #             'RMSprop':RMSprop(lr=learning_rate), 'Adadelta':Adadelta(lr=learning_rate),\n",
        "    #            'Adagrad':Adagrad(lr=learning_rate), 'Adamax':Adamax(lr=learning_rate), 'Ftrl':Ftrl(lr=learning_rate)}\n",
        "    layeropt = ['SGD', 'Adam', 'RMSprop', 'Adadelta', 'Adagrad', 'Adamax', 'Nadam', 'Ftrl','SGD']\n",
        "    denseopt= {'Adam':Adam(lr=learning_rate), 'SGD':SGD(lr=learning_rate),\n",
        "                 'RMSprop':RMSprop(lr=learning_rate), 'Adadelta':Adadelta(lr=learning_rate),\n",
        "                 'Adagrad':Adagrad(lr=learning_rate), 'Adamax':Adamax(lr=learning_rate),\n",
        "                 'Nadam':Nadam(lr=learning_rate), 'Ftrl':Ftrl(lr=learning_rate)}\n",
        "    actfx = ['relu', LeakyReLU, 'sigmoid', 'tanh', 'selu', 'elu']   # https://keras.io/api/layers/activations/\n",
        "    #actfx = ['relu', 'sigmoid', 'softplus', 'softsign', 'tanh', 'selu', 'elu', 'exponential', LeakyReLU]\n",
        "    neurons = round(neurons)\n",
        "    activation = actfx[round(activation)]\n",
        "    optimizer = denseopt[layeropt[round(optimizer)]]\n",
        "    batch_size = round(batch_size)\n",
        "    epochs = round(epochs)\n",
        "    layers1 = round(layers1)\n",
        "    layers2 = round(layers2)\n",
        "    def nn_cl_fun():\n",
        "        nn = Sequential()\n",
        "        nn.add(Dense(neurons, input_dim=17, activation=activation))   # Input Layer\n",
        "        if normalization > 0.5:\n",
        "          nn.add(BatchNormalization())\n",
        "        for i in range(layers1):\n",
        "          nn.add(Dense(neurons, activation=activation))     # Hidden layer(s)\n",
        "        if dropout > 0.5:\n",
        "          nn.add(Dropout(dropout_rate, seed = 7))     # Dropout Layer\n",
        "        for i in range(layers2):\n",
        "            nn.add(Dense(neurons, activation = activation))   # Hidden layer(s)\n",
        "        nn.add(Dense(1, activation='sigmoid'))    # Output Layer\n",
        "        nn.compile(loss='binary_crossentropy', optimizer=optimizer, metrics=['accuracy'])\n",
        "        return nn\n",
        "    es = EarlyStopping(monitor='accuracy', mode='max', verbose=0, patience=20)\n",
        "    nn = KerasClassifier(build_fn=nn_cl_fun, epochs=epochs, batch_size=batch_size, verbose=0)\n",
        "    pprint(vars(nn))\n",
        "    kfold = StratifiedKFold(n_splits=5, shuffle=True, random_state=7)\n",
        "    accuracy = cross_val_score(nn, x_train, y_train, scoring=score_acc, cv=kfold, fit_params={'callbacks':[es]}).mean()\n",
        "    return accuracy"
      ],
      "execution_count": null,
      "outputs": []
    },
    {
      "cell_type": "code",
      "metadata": {
        "id": "qDpqbn1euxaE",
        "colab": {
          "base_uri": "https://localhost:8080/"
        },
        "outputId": "8f74520b-7856-4252-a188-f01c2e1dde71"
      },
      "source": [
        "# Set paramaters\n",
        "params_nn ={\n",
        "    'neurons': (2, 50), \n",
        "    'activation':(0, 5),\n",
        "    'optimizer':(0,8),\n",
        "    'learning_rate':(0.01, 1),\n",
        "    'batch_size':(20, 200), \n",
        "    'epochs':(20, 100),\n",
        "    'layers1':(1,3), # Hidden layer\n",
        "    'layers2':(1,3), # Hidden layer\n",
        "    'normalization':(0,1),\n",
        "    'dropout':(0,1),\n",
        "    'dropout_rate':(0,0.3)\n",
        "}\n",
        "\n",
        "# Run Bayesian Optimization\n",
        "mlp_optimizer = BayesianOptimization(nn_cl_bo, params_nn, random_state = 7)\n",
        "mlp_optimizer.maximize(init_points=25, n_iter=4)"
      ],
      "execution_count": null,
      "outputs": [
        {
          "output_type": "stream",
          "name": "stdout",
          "text": [
            "|   iter    |  target   | activa... | batch_... |  dropout  | dropou... |  epochs   |  layers1  |  layers2  | learni... |  neurons  | normal... | optimizer |\n",
            "-------------------------------------------------------------------------------------------------------------------------------------------------------------\n",
            "{'build_fn': <function nn_cl_bo.<locals>.nn_cl_fun at 0x7fb8eacd5320>,\n",
            " 'sk_params': {'batch_size': 160, 'epochs': 98, 'verbose': 0}}\n",
            "| \u001b[0m 1       \u001b[0m | \u001b[0m 0.9063  \u001b[0m | \u001b[0m 0.3815  \u001b[0m | \u001b[0m 160.4   \u001b[0m | \u001b[0m 0.4384  \u001b[0m | \u001b[0m 0.217   \u001b[0m | \u001b[0m 98.24   \u001b[0m | \u001b[0m 2.077   \u001b[0m | \u001b[0m 2.002   \u001b[0m | \u001b[0m 0.08133 \u001b[0m | \u001b[0m 14.89   \u001b[0m | \u001b[0m 0.4999  \u001b[0m | \u001b[0m 5.434   \u001b[0m |\n",
            "{'build_fn': <function nn_cl_bo.<locals>.nn_cl_fun at 0x7fb8e65060e0>,\n",
            " 'sk_params': {'batch_size': 89, 'epochs': 93, 'verbose': 0}}\n",
            "| \u001b[0m 2       \u001b[0m | \u001b[0m 0.8376  \u001b[0m | \u001b[0m 4.019   \u001b[0m | \u001b[0m 88.57   \u001b[0m | \u001b[0m 0.06594 \u001b[0m | \u001b[0m 0.08644 \u001b[0m | \u001b[0m 92.77   \u001b[0m | \u001b[0m 1.427   \u001b[0m | \u001b[0m 1.904   \u001b[0m | \u001b[0m 0.9319  \u001b[0m | \u001b[0m 3.195   \u001b[0m | \u001b[0m 0.6005  \u001b[0m | \u001b[0m 7.601   \u001b[0m |\n",
            "{'build_fn': <function nn_cl_bo.<locals>.nn_cl_fun at 0x7fb8eafd1830>,\n",
            " 'sk_params': {'batch_size': 119, 'epochs': 62, 'verbose': 0}}\n",
            "| \u001b[0m 3       \u001b[0m | \u001b[0m 0.89    \u001b[0m | \u001b[0m 1.152   \u001b[0m | \u001b[0m 118.7   \u001b[0m | \u001b[0m 0.9091  \u001b[0m | \u001b[0m 0.03995 \u001b[0m | \u001b[0m 61.87   \u001b[0m | \u001b[0m 2.501   \u001b[0m | \u001b[0m 2.338   \u001b[0m | \u001b[0m 0.4731  \u001b[0m | \u001b[0m 11.83   \u001b[0m | \u001b[0m 0.4908  \u001b[0m | \u001b[0m 2.979   \u001b[0m |\n",
            "{'build_fn': <function nn_cl_bo.<locals>.nn_cl_fun at 0x7fb8eadd73b0>,\n",
            " 'sk_params': {'batch_size': 86, 'epochs': 45, 'verbose': 0}}\n",
            "| \u001b[0m 4       \u001b[0m | \u001b[0m 0.8062  \u001b[0m | \u001b[0m 2.387   \u001b[0m | \u001b[0m 85.86   \u001b[0m | \u001b[0m 0.8379  \u001b[0m | \u001b[0m 0.2306  \u001b[0m | \u001b[0m 45.12   \u001b[0m | \u001b[0m 2.145   \u001b[0m | \u001b[0m 1.552   \u001b[0m | \u001b[0m 0.4583  \u001b[0m | \u001b[0m 18.94   \u001b[0m | \u001b[0m 0.6574  \u001b[0m | \u001b[0m 2.963   \u001b[0m |\n",
            "{'build_fn': <function nn_cl_bo.<locals>.nn_cl_fun at 0x7fb8e670b200>,\n",
            " 'sk_params': {'batch_size': 149, 'epochs': 34, 'verbose': 0}}\n",
            "| \u001b[0m 5       \u001b[0m | \u001b[0m 0.8062  \u001b[0m | \u001b[0m 2.295   \u001b[0m | \u001b[0m 149.5   \u001b[0m | \u001b[0m 0.413   \u001b[0m | \u001b[0m 0.2719  \u001b[0m | \u001b[0m 34.44   \u001b[0m | \u001b[0m 2.482   \u001b[0m | \u001b[0m 1.845   \u001b[0m | \u001b[0m 0.4322  \u001b[0m | \u001b[0m 32.45   \u001b[0m | \u001b[0m 0.5229  \u001b[0m | \u001b[0m 3.319   \u001b[0m |\n",
            "{'build_fn': <function nn_cl_bo.<locals>.nn_cl_fun at 0x7fb8dac04cb0>,\n",
            " 'sk_params': {'batch_size': 37, 'epochs': 76, 'verbose': 0}}\n",
            "| \u001b[0m 6       \u001b[0m | \u001b[0m 0.7863  \u001b[0m | \u001b[0m 0.007134\u001b[0m | \u001b[0m 36.61   \u001b[0m | \u001b[0m 0.7094  \u001b[0m | \u001b[0m 0.1573  \u001b[0m | \u001b[0m 75.69   \u001b[0m | \u001b[0m 2.911   \u001b[0m | \u001b[0m 2.366   \u001b[0m | \u001b[0m 0.0626  \u001b[0m | \u001b[0m 16.82   \u001b[0m | \u001b[0m 0.5926  \u001b[0m | \u001b[0m 1.881   \u001b[0m |\n",
            "{'build_fn': <function nn_cl_bo.<locals>.nn_cl_fun at 0x7fb8e68903b0>,\n",
            " 'sk_params': {'batch_size': 190, 'epochs': 87, 'verbose': 0}}\n",
            "| \u001b[0m 7       \u001b[0m | \u001b[0m 0.8062  \u001b[0m | \u001b[0m 4.825   \u001b[0m | \u001b[0m 190.1   \u001b[0m | \u001b[0m 0.8484  \u001b[0m | \u001b[0m 0.1417  \u001b[0m | \u001b[0m 87.32   \u001b[0m | \u001b[0m 1.262   \u001b[0m | \u001b[0m 1.617   \u001b[0m | \u001b[0m 0.4684  \u001b[0m | \u001b[0m 37.61   \u001b[0m | \u001b[0m 0.4858  \u001b[0m | \u001b[0m 1.095   \u001b[0m |\n",
            "{'build_fn': <function nn_cl_bo.<locals>.nn_cl_fun at 0x7fb8deac4dd0>,\n",
            " 'sk_params': {'batch_size': 78, 'epochs': 53, 'verbose': 0}}\n",
            "| \u001b[0m 8       \u001b[0m | \u001b[0m 0.6841  \u001b[0m | \u001b[0m 1.718   \u001b[0m | \u001b[0m 78.4    \u001b[0m | \u001b[0m 0.3004  \u001b[0m | \u001b[0m 0.04965 \u001b[0m | \u001b[0m 53.19   \u001b[0m | \u001b[0m 1.896   \u001b[0m | \u001b[0m 2.55    \u001b[0m | \u001b[0m 0.7984  \u001b[0m | \u001b[0m 27.07   \u001b[0m | \u001b[0m 0.4606  \u001b[0m | \u001b[0m 6.226   \u001b[0m |\n",
            "{'build_fn': <function nn_cl_bo.<locals>.nn_cl_fun at 0x7fb8f8b9a3b0>,\n",
            " 'sk_params': {'batch_size': 141, 'epochs': 23, 'verbose': 0}}\n",
            "| \u001b[0m 9       \u001b[0m | \u001b[0m 0.6831  \u001b[0m | \u001b[0m 4.436   \u001b[0m | \u001b[0m 141.5   \u001b[0m | \u001b[0m 0.8005  \u001b[0m | \u001b[0m 0.2817  \u001b[0m | \u001b[0m 23.25   \u001b[0m | \u001b[0m 2.751   \u001b[0m | \u001b[0m 1.553   \u001b[0m | \u001b[0m 0.481   \u001b[0m | \u001b[0m 40.24   \u001b[0m | \u001b[0m 0.7172  \u001b[0m | \u001b[0m 1.177   \u001b[0m |\n",
            "{'build_fn': <function nn_cl_bo.<locals>.nn_cl_fun at 0x7fb8deb04ef0>,\n",
            " 'sk_params': {'batch_size': 32, 'epochs': 54, 'verbose': 0}}\n",
            "| \u001b[0m 10      \u001b[0m | \u001b[0m 0.8987  \u001b[0m | \u001b[0m 3.294   \u001b[0m | \u001b[0m 32.47   \u001b[0m | \u001b[0m 0.3571  \u001b[0m | \u001b[0m 0.2438  \u001b[0m | \u001b[0m 54.22   \u001b[0m | \u001b[0m 2.2     \u001b[0m | \u001b[0m 2.456   \u001b[0m | \u001b[0m 0.823   \u001b[0m | \u001b[0m 38.5    \u001b[0m | \u001b[0m 0.007143\u001b[0m | \u001b[0m 3.362   \u001b[0m |\n",
            "{'build_fn': <function nn_cl_bo.<locals>.nn_cl_fun at 0x7fb8df3e4560>,\n",
            " 'sk_params': {'batch_size': 30, 'epochs': 86, 'verbose': 0}}\n",
            "| \u001b[0m 11      \u001b[0m | \u001b[0m 0.8062  \u001b[0m | \u001b[0m 2.316   \u001b[0m | \u001b[0m 29.99   \u001b[0m | \u001b[0m 0.5414  \u001b[0m | \u001b[0m 0.1823  \u001b[0m | \u001b[0m 86.28   \u001b[0m | \u001b[0m 2.884   \u001b[0m | \u001b[0m 1.256   \u001b[0m | \u001b[0m 0.2381  \u001b[0m | \u001b[0m 33.64   \u001b[0m | \u001b[0m 0.1325  \u001b[0m | \u001b[0m 1.793   \u001b[0m |\n",
            "{'build_fn': <function nn_cl_bo.<locals>.nn_cl_fun at 0x7fb8e6b7d320>,\n",
            " 'sk_params': {'batch_size': 51, 'epochs': 23, 'verbose': 0}}\n",
            "| \u001b[0m 12      \u001b[0m | \u001b[0m 0.8062  \u001b[0m | \u001b[0m 2.874   \u001b[0m | \u001b[0m 50.51   \u001b[0m | \u001b[0m 0.7822  \u001b[0m | \u001b[0m 0.2571  \u001b[0m | \u001b[0m 22.69   \u001b[0m | \u001b[0m 2.065   \u001b[0m | \u001b[0m 2.594   \u001b[0m | \u001b[0m 0.9754  \u001b[0m | \u001b[0m 15.16   \u001b[0m | \u001b[0m 0.1691  \u001b[0m | \u001b[0m 7.014   \u001b[0m |\n",
            "{'build_fn': <function nn_cl_bo.<locals>.nn_cl_fun at 0x7fb8e6a620e0>,\n",
            " 'sk_params': {'batch_size': 56, 'epochs': 88, 'verbose': 0}}\n",
            "| \u001b[0m 13      \u001b[0m | \u001b[0m 0.6841  \u001b[0m | \u001b[0m 4.546   \u001b[0m | \u001b[0m 55.56   \u001b[0m | \u001b[0m 0.4415  \u001b[0m | \u001b[0m 0.2158  \u001b[0m | \u001b[0m 87.63   \u001b[0m | \u001b[0m 1.337   \u001b[0m | \u001b[0m 2.33    \u001b[0m | \u001b[0m 0.8098  \u001b[0m | \u001b[0m 28.39   \u001b[0m | \u001b[0m 0.1647  \u001b[0m | \u001b[0m 0.2842  \u001b[0m |\n",
            "{'build_fn': <function nn_cl_bo.<locals>.nn_cl_fun at 0x7fb8e5475830>,\n",
            " 'sk_params': {'batch_size': 165, 'epochs': 49, 'verbose': 0}}\n",
            "| \u001b[0m 14      \u001b[0m | \u001b[0m 0.8224  \u001b[0m | \u001b[0m 1.408   \u001b[0m | \u001b[0m 165.4   \u001b[0m | \u001b[0m 0.04477 \u001b[0m | \u001b[0m 0.002465\u001b[0m | \u001b[0m 48.93   \u001b[0m | \u001b[0m 1.127   \u001b[0m | \u001b[0m 1.299   \u001b[0m | \u001b[0m 0.03296 \u001b[0m | \u001b[0m 27.19   \u001b[0m | \u001b[0m 0.6967  \u001b[0m | \u001b[0m 3.416   \u001b[0m |\n",
            "{'build_fn': <function nn_cl_bo.<locals>.nn_cl_fun at 0x7fb8e6506b90>,\n",
            " 'sk_params': {'batch_size': 80, 'epochs': 99, 'verbose': 0}}\n",
            "| \u001b[0m 15      \u001b[0m | \u001b[0m 0.8376  \u001b[0m | \u001b[0m 0.6729  \u001b[0m | \u001b[0m 79.64   \u001b[0m | \u001b[0m 0.5903  \u001b[0m | \u001b[0m 0.2822  \u001b[0m | \u001b[0m 99.4    \u001b[0m | \u001b[0m 1.483   \u001b[0m | \u001b[0m 1.021   \u001b[0m | \u001b[0m 0.8323  \u001b[0m | \u001b[0m 46.48   \u001b[0m | \u001b[0m 0.4586  \u001b[0m | \u001b[0m 6.172   \u001b[0m |\n",
            "{'build_fn': <function nn_cl_bo.<locals>.nn_cl_fun at 0x7fb8eafd1560>,\n",
            " 'sk_params': {'batch_size': 130, 'epochs': 42, 'verbose': 0}}\n",
            "| \u001b[0m 16      \u001b[0m | \u001b[0m 0.8062  \u001b[0m | \u001b[0m 4.331   \u001b[0m | \u001b[0m 129.7   \u001b[0m | \u001b[0m 0.8726  \u001b[0m | \u001b[0m 0.007171\u001b[0m | \u001b[0m 41.73   \u001b[0m | \u001b[0m 1.554   \u001b[0m | \u001b[0m 1.241   \u001b[0m | \u001b[0m 0.9116  \u001b[0m | \u001b[0m 3.461   \u001b[0m | \u001b[0m 0.6726  \u001b[0m | \u001b[0m 0.5707  \u001b[0m |\n",
            "{'build_fn': <function nn_cl_bo.<locals>.nn_cl_fun at 0x7fb8eb001680>,\n",
            " 'sk_params': {'batch_size': 95, 'epochs': 63, 'verbose': 0}}\n",
            "| \u001b[0m 17      \u001b[0m | \u001b[0m 0.8062  \u001b[0m | \u001b[0m 1.804   \u001b[0m | \u001b[0m 95.26   \u001b[0m | \u001b[0m 0.1814  \u001b[0m | \u001b[0m 0.1563  \u001b[0m | \u001b[0m 62.8    \u001b[0m | \u001b[0m 1.634   \u001b[0m | \u001b[0m 2.474   \u001b[0m | \u001b[0m 0.1686  \u001b[0m | \u001b[0m 11.24   \u001b[0m | \u001b[0m 0.3545  \u001b[0m | \u001b[0m 3.027   \u001b[0m |\n",
            "{'build_fn': <function nn_cl_bo.<locals>.nn_cl_fun at 0x7fb8e6a6cf80>,\n",
            " 'sk_params': {'batch_size': 185, 'epochs': 50, 'verbose': 0}}\n",
            "| \u001b[0m 18      \u001b[0m | \u001b[0m 0.8836  \u001b[0m | \u001b[0m 1.031   \u001b[0m | \u001b[0m 185.4   \u001b[0m | \u001b[0m 0.8281  \u001b[0m | \u001b[0m 0.03206 \u001b[0m | \u001b[0m 49.56   \u001b[0m | \u001b[0m 1.465   \u001b[0m | \u001b[0m 1.902   \u001b[0m | \u001b[0m 0.2836  \u001b[0m | \u001b[0m 26.09   \u001b[0m | \u001b[0m 0.9226  \u001b[0m | \u001b[0m 3.06    \u001b[0m |\n",
            "{'build_fn': <function nn_cl_bo.<locals>.nn_cl_fun at 0x7fb8deac43b0>,\n",
            " 'sk_params': {'batch_size': 127, 'epochs': 80, 'verbose': 0}}\n",
            "| \u001b[0m 19      \u001b[0m | \u001b[0m 0.8062  \u001b[0m | \u001b[0m 3.251   \u001b[0m | \u001b[0m 127.2   \u001b[0m | \u001b[0m 0.752   \u001b[0m | \u001b[0m 0.0185  \u001b[0m | \u001b[0m 79.59   \u001b[0m | \u001b[0m 2.893   \u001b[0m | \u001b[0m 2.207   \u001b[0m | \u001b[0m 0.2947  \u001b[0m | \u001b[0m 34.27   \u001b[0m | \u001b[0m 0.712   \u001b[0m | \u001b[0m 5.252   \u001b[0m |\n",
            "{'build_fn': <function nn_cl_bo.<locals>.nn_cl_fun at 0x7fb8deb04dd0>,\n",
            " 'sk_params': {'batch_size': 195, 'epochs': 67, 'verbose': 0}}\n",
            "| \u001b[0m 20      \u001b[0m | \u001b[0m 0.8073  \u001b[0m | \u001b[0m 0.7347  \u001b[0m | \u001b[0m 195.2   \u001b[0m | \u001b[0m 0.9554  \u001b[0m | \u001b[0m 0.1274  \u001b[0m | \u001b[0m 67.49   \u001b[0m | \u001b[0m 1.079   \u001b[0m | \u001b[0m 2.977   \u001b[0m | \u001b[0m 0.8206  \u001b[0m | \u001b[0m 32.55   \u001b[0m | \u001b[0m 0.7611  \u001b[0m | \u001b[0m 1.504   \u001b[0m |\n",
            "{'build_fn': <function nn_cl_bo.<locals>.nn_cl_fun at 0x7fb8dac04320>,\n",
            " 'sk_params': {'batch_size': 64, 'epochs': 92, 'verbose': 0}}\n",
            "| \u001b[0m 21      \u001b[0m | \u001b[0m 0.8062  \u001b[0m | \u001b[0m 1.538   \u001b[0m | \u001b[0m 64.35   \u001b[0m | \u001b[0m 0.596   \u001b[0m | \u001b[0m 0.02757 \u001b[0m | \u001b[0m 91.65   \u001b[0m | \u001b[0m 1.925   \u001b[0m | \u001b[0m 1.89    \u001b[0m | \u001b[0m 0.1137  \u001b[0m | \u001b[0m 34.88   \u001b[0m | \u001b[0m 0.8169  \u001b[0m | \u001b[0m 5.036   \u001b[0m |\n",
            "{'build_fn': <function nn_cl_bo.<locals>.nn_cl_fun at 0x7fb8e6568950>,\n",
            " 'sk_params': {'batch_size': 161, 'epochs': 66, 'verbose': 0}}\n",
            "| \u001b[0m 22      \u001b[0m | \u001b[0m 0.8911  \u001b[0m | \u001b[0m 1.21    \u001b[0m | \u001b[0m 161.4   \u001b[0m | \u001b[0m 0.1457  \u001b[0m | \u001b[0m 0.2482  \u001b[0m | \u001b[0m 66.46   \u001b[0m | \u001b[0m 1.579   \u001b[0m | \u001b[0m 2.026   \u001b[0m | \u001b[0m 0.6326  \u001b[0m | \u001b[0m 14.41   \u001b[0m | \u001b[0m 0.8469  \u001b[0m | \u001b[0m 3.37    \u001b[0m |\n",
            "{'build_fn': <function nn_cl_bo.<locals>.nn_cl_fun at 0x7fb8e6a71440>,\n",
            " 'sk_params': {'batch_size': 170, 'epochs': 45, 'verbose': 0}}\n",
            "| \u001b[0m 23      \u001b[0m | \u001b[0m 0.721   \u001b[0m | \u001b[0m 4.462   \u001b[0m | \u001b[0m 170.4   \u001b[0m | \u001b[0m 0.09935 \u001b[0m | \u001b[0m 0.1939  \u001b[0m | \u001b[0m 44.84   \u001b[0m | \u001b[0m 2.508   \u001b[0m | \u001b[0m 2.085   \u001b[0m | \u001b[0m 0.463   \u001b[0m | \u001b[0m 44.98   \u001b[0m | \u001b[0m 0.05725 \u001b[0m | \u001b[0m 4.459   \u001b[0m |\n",
            "{'build_fn': <function nn_cl_bo.<locals>.nn_cl_fun at 0x7fb8dde6a3b0>,\n",
            " 'sk_params': {'batch_size': 26, 'epochs': 92, 'verbose': 0}}\n",
            "| \u001b[0m 24      \u001b[0m | \u001b[0m 0.8062  \u001b[0m | \u001b[0m 1.64    \u001b[0m | \u001b[0m 26.35   \u001b[0m | \u001b[0m 0.7535  \u001b[0m | \u001b[0m 0.1685  \u001b[0m | \u001b[0m 91.53   \u001b[0m | \u001b[0m 2.197   \u001b[0m | \u001b[0m 1.674   \u001b[0m | \u001b[0m 0.9854  \u001b[0m | \u001b[0m 7.554   \u001b[0m | \u001b[0m 0.0526  \u001b[0m | \u001b[0m 5.861   \u001b[0m |\n",
            "{'build_fn': <function nn_cl_bo.<locals>.nn_cl_fun at 0x7fb8e5431830>,\n",
            " 'sk_params': {'batch_size': 85, 'epochs': 91, 'verbose': 0}}\n",
            "| \u001b[0m 25      \u001b[0m | \u001b[0m 0.6841  \u001b[0m | \u001b[0m 1.854   \u001b[0m | \u001b[0m 85.06   \u001b[0m | \u001b[0m 0.8765  \u001b[0m | \u001b[0m 0.09819 \u001b[0m | \u001b[0m 91.12   \u001b[0m | \u001b[0m 2.288   \u001b[0m | \u001b[0m 1.658   \u001b[0m | \u001b[0m 0.06894 \u001b[0m | \u001b[0m 13.77   \u001b[0m | \u001b[0m 0.9684  \u001b[0m | \u001b[0m 3.242   \u001b[0m |\n",
            "{'build_fn': <function nn_cl_bo.<locals>.nn_cl_fun at 0x7fb8ec3cfb90>,\n",
            " 'sk_params': {'batch_size': 85, 'epochs': 85, 'verbose': 0}}\n",
            "| \u001b[0m 26      \u001b[0m | \u001b[0m 0.8062  \u001b[0m | \u001b[0m 0.3632  \u001b[0m | \u001b[0m 84.96   \u001b[0m | \u001b[0m 0.09583 \u001b[0m | \u001b[0m 0.2137  \u001b[0m | \u001b[0m 84.78   \u001b[0m | \u001b[0m 1.091   \u001b[0m | \u001b[0m 2.022   \u001b[0m | \u001b[0m 0.1671  \u001b[0m | \u001b[0m 48.01   \u001b[0m | \u001b[0m 0.533   \u001b[0m | \u001b[0m 1.253   \u001b[0m |\n",
            "{'build_fn': <function nn_cl_bo.<locals>.nn_cl_fun at 0x7fb8e6a6ca70>,\n",
            " 'sk_params': {'batch_size': 114, 'epochs': 94, 'verbose': 0}}\n",
            "| \u001b[0m 27      \u001b[0m | \u001b[0m 0.8266  \u001b[0m | \u001b[0m 1.498   \u001b[0m | \u001b[0m 113.8   \u001b[0m | \u001b[0m 0.4451  \u001b[0m | \u001b[0m 0.1469  \u001b[0m | \u001b[0m 93.56   \u001b[0m | \u001b[0m 1.222   \u001b[0m | \u001b[0m 2.833   \u001b[0m | \u001b[0m 0.6422  \u001b[0m | \u001b[0m 3.224   \u001b[0m | \u001b[0m 0.6929  \u001b[0m | \u001b[0m 2.744   \u001b[0m |\n",
            "{'build_fn': <function nn_cl_bo.<locals>.nn_cl_fun at 0x7fb8de8fe560>,\n",
            " 'sk_params': {'batch_size': 32, 'epochs': 58, 'verbose': 0}}\n",
            "| \u001b[0m 28      \u001b[0m | \u001b[0m 0.8062  \u001b[0m | \u001b[0m 0.1739  \u001b[0m | \u001b[0m 32.43   \u001b[0m | \u001b[0m 0.2411  \u001b[0m | \u001b[0m 0.1555  \u001b[0m | \u001b[0m 58.18   \u001b[0m | \u001b[0m 2.702   \u001b[0m | \u001b[0m 1.092   \u001b[0m | \u001b[0m 0.9883  \u001b[0m | \u001b[0m 9.317   \u001b[0m | \u001b[0m 0.5535  \u001b[0m | \u001b[0m 4.365   \u001b[0m |\n",
            "{'build_fn': <function nn_cl_bo.<locals>.nn_cl_fun at 0x7fb8df3f8290>,\n",
            " 'sk_params': {'batch_size': 65, 'epochs': 58, 'verbose': 0}}\n",
            "| \u001b[0m 29      \u001b[0m | \u001b[0m 0.8603  \u001b[0m | \u001b[0m 0.8552  \u001b[0m | \u001b[0m 64.73   \u001b[0m | \u001b[0m 0.1906  \u001b[0m | \u001b[0m 0.2836  \u001b[0m | \u001b[0m 58.03   \u001b[0m | \u001b[0m 1.114   \u001b[0m | \u001b[0m 2.759   \u001b[0m | \u001b[0m 0.3543  \u001b[0m | \u001b[0m 18.19   \u001b[0m | \u001b[0m 0.3376  \u001b[0m | \u001b[0m 3.481   \u001b[0m |\n",
            "=============================================================================================================================================================\n"
          ]
        }
      ]
    },
    {
      "cell_type": "code",
      "metadata": {
        "id": "qTclXvAPrJ1r",
        "colab": {
          "base_uri": "https://localhost:8080/"
        },
        "outputId": "612c8100-c124-4908-b585-46edad8935d8"
      },
      "source": [
        "# Hyperparameter Tuning w/ BaysianOptimization for Deep Learning\n",
        "params_nn_ = mlp_optimizer.max['params']\n",
        "learning_rate = params_nn_['learning_rate']\n",
        "actfx = ['relu', LeakyReLU, 'sigmoid', 'tanh', 'selu', 'elu'] \n",
        "params_nn_['activation'] = actfx[round(params_nn_['activation'])]\n",
        "params_nn_['batch_size'] = round(params_nn_['batch_size'])\n",
        "params_nn_['epochs'] = round(params_nn_['epochs'])\n",
        "params_nn_['layers1'] = round(params_nn_['layers1'])\n",
        "params_nn_['layers2'] = round(params_nn_['layers2'])\n",
        "params_nn_['neurons'] = round(params_nn_['neurons'])\n",
        "layeropt = ['SGD', 'Adam', 'RMSprop', 'Adadelta', 'Adagrad', 'Adamax', 'Nadam', 'Ftrl','SGD']\n",
        "denseopt= {'Adam':Adam(lr=learning_rate), 'SGD':SGD(lr=learning_rate),\n",
        "                 'RMSprop':RMSprop(lr=learning_rate), 'Adadelta':Adadelta(lr=learning_rate),\n",
        "                 'Adagrad':Adagrad(lr=learning_rate), 'Adamax':Adamax(lr=learning_rate),\n",
        "                 'Nadam':Nadam(lr=learning_rate), 'Ftrl':Ftrl(lr=learning_rate)}       \n",
        "params_nn_['optimizer'] = denseopt[layeropt[round(params_nn_['optimizer'])]]\n",
        "params_nn_"
      ],
      "execution_count": null,
      "outputs": [
        {
          "output_type": "execute_result",
          "data": {
            "text/plain": [
              "{'activation': 'relu',\n",
              " 'batch_size': 160,\n",
              " 'dropout': 0.4384092314408935,\n",
              " 'dropout_rate': 0.21703955334928235,\n",
              " 'epochs': 98,\n",
              " 'layers1': 2,\n",
              " 'layers2': 2,\n",
              " 'learning_rate': 0.08133062202616392,\n",
              " 'neurons': 15,\n",
              " 'normalization': 0.49988250082555996,\n",
              " 'optimizer': <keras.optimizer_v2.adamax.Adamax at 0x7fb8ec405550>}"
            ]
          },
          "metadata": {},
          "execution_count": 71
        }
      ]
    },
    {
      "cell_type": "code",
      "metadata": {
        "id": "nhhD8OROLFaK",
        "colab": {
          "base_uri": "https://localhost:8080/"
        },
        "outputId": "f26097cb-d658-419d-f48b-52e135e50cec"
      },
      "source": [
        "# Fitting Neural Networks\n",
        "def nn_cl_fun():\n",
        "  nn = Sequential()\n",
        "  nn.add(Dense(params_nn_['neurons'], input_dim=17, activation=params_nn_['activation']))\n",
        "  if params_nn_['normalization'] > 0.5:\n",
        "    nn.add(BatchNormalization())\n",
        "  for i in range(params_nn_['layers1']):\n",
        "    nn.add(Dense(params_nn_['neurons'], activation=params_nn_['activation']))\n",
        "  if params_nn_['dropout'] > 0.5:\n",
        "    nn.add(Dropout(params_nn_['dropout_rate'], seed=7))\n",
        "  for i in range(params_nn_['layers2']):\n",
        "    nn.add(Dense(params_nn_['neurons'], activation=params_nn_['activation']))\n",
        "  nn.add(Dense(1, activation='sigmoid'))\n",
        "  nn.compile(loss='binary_crossentropy', optimizer=params_nn_['optimizer'], metrics=['accuracy'])\n",
        "  return nn\n",
        "es = EarlyStopping(monitor='accuracy', mode='max', verbose=0, patience=20)\n",
        "nn = KerasClassifier(build_fn=nn_cl_fun, epochs=params_nn_['epochs'], batch_size=params_nn_['batch_size'],\n",
        "                         verbose=0)\n",
        "nn.fit(x_train, y_train, validation_data=(x_test, y_test), verbose=1)"
      ],
      "execution_count": null,
      "outputs": [
        {
          "output_type": "stream",
          "name": "stdout",
          "text": [
            "Epoch 1/98\n",
            "11/11 [==============================] - 1s 25ms/step - loss: 1.5415 - accuracy: 0.7503 - val_loss: 0.5263 - val_accuracy: 0.8065\n",
            "Epoch 2/98\n",
            "11/11 [==============================] - 0s 5ms/step - loss: 0.5232 - accuracy: 0.8062 - val_loss: 0.5134 - val_accuracy: 0.8065\n",
            "Epoch 3/98\n",
            "11/11 [==============================] - 0s 4ms/step - loss: 0.4925 - accuracy: 0.8062 - val_loss: 0.4733 - val_accuracy: 0.8065\n",
            "Epoch 4/98\n",
            "11/11 [==============================] - 0s 4ms/step - loss: 0.4573 - accuracy: 0.8062 - val_loss: 0.4039 - val_accuracy: 0.8065\n",
            "Epoch 5/98\n",
            "11/11 [==============================] - 0s 5ms/step - loss: 0.4240 - accuracy: 0.8062 - val_loss: 0.3860 - val_accuracy: 0.8065\n",
            "Epoch 6/98\n",
            "11/11 [==============================] - 0s 6ms/step - loss: 0.3606 - accuracy: 0.8062 - val_loss: 0.3411 - val_accuracy: 0.8065\n",
            "Epoch 7/98\n",
            "11/11 [==============================] - 0s 7ms/step - loss: 0.3348 - accuracy: 0.8126 - val_loss: 0.3444 - val_accuracy: 0.8411\n",
            "Epoch 8/98\n",
            "11/11 [==============================] - 0s 7ms/step - loss: 0.3723 - accuracy: 0.8213 - val_loss: 0.2974 - val_accuracy: 0.8941\n",
            "Epoch 9/98\n",
            "11/11 [==============================] - 0s 4ms/step - loss: 0.3241 - accuracy: 0.8749 - val_loss: 0.3094 - val_accuracy: 0.8697\n",
            "Epoch 10/98\n",
            "11/11 [==============================] - 0s 5ms/step - loss: 0.3339 - accuracy: 0.8580 - val_loss: 0.3717 - val_accuracy: 0.8554\n",
            "Epoch 11/98\n",
            "11/11 [==============================] - 0s 6ms/step - loss: 0.3531 - accuracy: 0.8492 - val_loss: 0.3160 - val_accuracy: 0.8534\n",
            "Epoch 12/98\n",
            "11/11 [==============================] - 0s 6ms/step - loss: 0.3058 - accuracy: 0.8795 - val_loss: 0.2878 - val_accuracy: 0.8961\n",
            "Epoch 13/98\n",
            "11/11 [==============================] - 0s 7ms/step - loss: 0.2913 - accuracy: 0.8865 - val_loss: 0.3460 - val_accuracy: 0.8432\n",
            "Epoch 14/98\n",
            "11/11 [==============================] - 0s 7ms/step - loss: 0.3041 - accuracy: 0.8766 - val_loss: 0.2863 - val_accuracy: 0.8941\n",
            "Epoch 15/98\n",
            "11/11 [==============================] - 0s 6ms/step - loss: 0.3063 - accuracy: 0.8795 - val_loss: 0.2643 - val_accuracy: 0.9002\n",
            "Epoch 16/98\n",
            "11/11 [==============================] - 0s 6ms/step - loss: 0.3388 - accuracy: 0.8586 - val_loss: 0.2862 - val_accuracy: 0.8941\n",
            "Epoch 17/98\n",
            "11/11 [==============================] - 0s 6ms/step - loss: 0.3685 - accuracy: 0.8620 - val_loss: 0.2932 - val_accuracy: 0.8839\n",
            "Epoch 18/98\n",
            "11/11 [==============================] - 0s 5ms/step - loss: 0.3063 - accuracy: 0.8783 - val_loss: 0.2626 - val_accuracy: 0.8961\n",
            "Epoch 19/98\n",
            "11/11 [==============================] - 0s 6ms/step - loss: 0.2802 - accuracy: 0.8900 - val_loss: 0.2566 - val_accuracy: 0.9022\n",
            "Epoch 20/98\n",
            "11/11 [==============================] - 0s 6ms/step - loss: 0.3064 - accuracy: 0.8795 - val_loss: 0.3809 - val_accuracy: 0.8330\n",
            "Epoch 21/98\n",
            "11/11 [==============================] - 0s 9ms/step - loss: 0.3004 - accuracy: 0.8783 - val_loss: 0.2526 - val_accuracy: 0.9022\n",
            "Epoch 22/98\n",
            "11/11 [==============================] - 0s 6ms/step - loss: 0.2743 - accuracy: 0.8906 - val_loss: 0.2470 - val_accuracy: 0.8982\n",
            "Epoch 23/98\n",
            "11/11 [==============================] - 0s 5ms/step - loss: 0.2674 - accuracy: 0.8946 - val_loss: 0.2738 - val_accuracy: 0.8921\n",
            "Epoch 24/98\n",
            "11/11 [==============================] - 0s 5ms/step - loss: 0.2668 - accuracy: 0.8946 - val_loss: 0.2487 - val_accuracy: 0.9002\n",
            "Epoch 25/98\n",
            "11/11 [==============================] - 0s 6ms/step - loss: 0.2882 - accuracy: 0.8830 - val_loss: 0.2610 - val_accuracy: 0.8839\n",
            "Epoch 26/98\n",
            "11/11 [==============================] - 0s 4ms/step - loss: 0.2762 - accuracy: 0.8882 - val_loss: 0.2458 - val_accuracy: 0.8961\n",
            "Epoch 27/98\n",
            "11/11 [==============================] - 0s 5ms/step - loss: 0.2689 - accuracy: 0.8859 - val_loss: 0.2543 - val_accuracy: 0.8982\n",
            "Epoch 28/98\n",
            "11/11 [==============================] - 0s 5ms/step - loss: 0.2843 - accuracy: 0.8813 - val_loss: 0.2500 - val_accuracy: 0.8982\n",
            "Epoch 29/98\n",
            "11/11 [==============================] - 0s 5ms/step - loss: 0.2928 - accuracy: 0.8783 - val_loss: 0.3443 - val_accuracy: 0.8473\n",
            "Epoch 30/98\n",
            "11/11 [==============================] - 0s 6ms/step - loss: 0.3453 - accuracy: 0.8533 - val_loss: 0.3642 - val_accuracy: 0.9022\n",
            "Epoch 31/98\n",
            "11/11 [==============================] - 0s 6ms/step - loss: 0.2994 - accuracy: 0.8906 - val_loss: 0.2517 - val_accuracy: 0.8961\n",
            "Epoch 32/98\n",
            "11/11 [==============================] - 0s 6ms/step - loss: 0.2687 - accuracy: 0.8923 - val_loss: 0.2717 - val_accuracy: 0.9022\n",
            "Epoch 33/98\n",
            "11/11 [==============================] - 0s 6ms/step - loss: 0.2670 - accuracy: 0.8877 - val_loss: 0.2733 - val_accuracy: 0.9022\n",
            "Epoch 34/98\n",
            "11/11 [==============================] - 0s 5ms/step - loss: 0.2738 - accuracy: 0.8894 - val_loss: 0.2959 - val_accuracy: 0.9002\n",
            "Epoch 35/98\n",
            "11/11 [==============================] - 0s 5ms/step - loss: 0.2894 - accuracy: 0.8894 - val_loss: 0.2566 - val_accuracy: 0.8900\n",
            "Epoch 36/98\n",
            "11/11 [==============================] - 0s 6ms/step - loss: 0.3195 - accuracy: 0.8626 - val_loss: 0.3717 - val_accuracy: 0.8961\n",
            "Epoch 37/98\n",
            "11/11 [==============================] - 0s 7ms/step - loss: 0.3319 - accuracy: 0.8644 - val_loss: 0.2596 - val_accuracy: 0.9002\n",
            "Epoch 38/98\n",
            "11/11 [==============================] - 0s 6ms/step - loss: 0.2885 - accuracy: 0.8795 - val_loss: 0.2423 - val_accuracy: 0.8961\n",
            "Epoch 39/98\n",
            "11/11 [==============================] - 0s 6ms/step - loss: 0.2901 - accuracy: 0.8853 - val_loss: 0.2785 - val_accuracy: 0.9002\n",
            "Epoch 40/98\n",
            "11/11 [==============================] - 0s 5ms/step - loss: 0.2631 - accuracy: 0.8964 - val_loss: 0.2350 - val_accuracy: 0.9002\n",
            "Epoch 41/98\n",
            "11/11 [==============================] - 0s 6ms/step - loss: 0.2824 - accuracy: 0.8882 - val_loss: 0.2680 - val_accuracy: 0.8982\n",
            "Epoch 42/98\n",
            "11/11 [==============================] - 0s 5ms/step - loss: 0.2639 - accuracy: 0.8929 - val_loss: 0.2328 - val_accuracy: 0.9022\n",
            "Epoch 43/98\n",
            "11/11 [==============================] - 0s 5ms/step - loss: 0.2813 - accuracy: 0.8900 - val_loss: 0.2448 - val_accuracy: 0.9022\n",
            "Epoch 44/98\n",
            "11/11 [==============================] - 0s 6ms/step - loss: 0.2731 - accuracy: 0.8853 - val_loss: 0.2853 - val_accuracy: 0.9022\n",
            "Epoch 45/98\n",
            "11/11 [==============================] - 0s 4ms/step - loss: 0.2699 - accuracy: 0.8906 - val_loss: 0.2909 - val_accuracy: 0.8534\n",
            "Epoch 46/98\n",
            "11/11 [==============================] - 0s 6ms/step - loss: 0.3030 - accuracy: 0.8719 - val_loss: 0.3148 - val_accuracy: 0.8921\n",
            "Epoch 47/98\n",
            "11/11 [==============================] - 0s 5ms/step - loss: 0.2735 - accuracy: 0.8912 - val_loss: 0.2334 - val_accuracy: 0.8982\n",
            "Epoch 48/98\n",
            "11/11 [==============================] - 0s 5ms/step - loss: 0.2770 - accuracy: 0.8888 - val_loss: 0.2661 - val_accuracy: 0.8839\n",
            "Epoch 49/98\n",
            "11/11 [==============================] - 0s 4ms/step - loss: 0.3002 - accuracy: 0.8766 - val_loss: 0.2769 - val_accuracy: 0.8982\n",
            "Epoch 50/98\n",
            "11/11 [==============================] - 0s 5ms/step - loss: 0.2680 - accuracy: 0.8958 - val_loss: 0.2746 - val_accuracy: 0.8961\n",
            "Epoch 51/98\n",
            "11/11 [==============================] - 0s 6ms/step - loss: 0.2622 - accuracy: 0.9028 - val_loss: 0.2328 - val_accuracy: 0.9063\n",
            "Epoch 52/98\n",
            "11/11 [==============================] - 0s 5ms/step - loss: 0.2657 - accuracy: 0.8929 - val_loss: 0.2574 - val_accuracy: 0.8982\n",
            "Epoch 53/98\n",
            "11/11 [==============================] - 0s 6ms/step - loss: 0.2725 - accuracy: 0.8900 - val_loss: 0.2394 - val_accuracy: 0.9022\n",
            "Epoch 54/98\n",
            "11/11 [==============================] - 0s 5ms/step - loss: 0.3185 - accuracy: 0.8731 - val_loss: 0.2632 - val_accuracy: 0.9002\n",
            "Epoch 55/98\n",
            "11/11 [==============================] - 0s 5ms/step - loss: 0.2767 - accuracy: 0.8888 - val_loss: 0.2333 - val_accuracy: 0.9022\n",
            "Epoch 56/98\n",
            "11/11 [==============================] - 0s 6ms/step - loss: 0.2680 - accuracy: 0.9010 - val_loss: 0.2706 - val_accuracy: 0.8982\n",
            "Epoch 57/98\n",
            "11/11 [==============================] - 0s 6ms/step - loss: 0.2601 - accuracy: 0.8993 - val_loss: 0.2684 - val_accuracy: 0.8819\n",
            "Epoch 58/98\n",
            "11/11 [==============================] - 0s 5ms/step - loss: 0.2629 - accuracy: 0.9010 - val_loss: 0.2337 - val_accuracy: 0.9002\n",
            "Epoch 59/98\n",
            "11/11 [==============================] - 0s 5ms/step - loss: 0.2605 - accuracy: 0.8993 - val_loss: 0.2325 - val_accuracy: 0.8982\n",
            "Epoch 60/98\n",
            "11/11 [==============================] - 0s 7ms/step - loss: 0.2670 - accuracy: 0.8952 - val_loss: 0.2492 - val_accuracy: 0.8982\n",
            "Epoch 61/98\n",
            "11/11 [==============================] - 0s 7ms/step - loss: 0.2656 - accuracy: 0.8958 - val_loss: 0.2670 - val_accuracy: 0.8859\n",
            "Epoch 62/98\n",
            "11/11 [==============================] - 0s 4ms/step - loss: 0.2745 - accuracy: 0.8894 - val_loss: 0.2795 - val_accuracy: 0.9002\n",
            "Epoch 63/98\n",
            "11/11 [==============================] - 0s 5ms/step - loss: 0.2605 - accuracy: 0.9005 - val_loss: 0.2396 - val_accuracy: 0.9022\n",
            "Epoch 64/98\n",
            "11/11 [==============================] - 0s 5ms/step - loss: 0.2496 - accuracy: 0.9069 - val_loss: 0.2387 - val_accuracy: 0.9022\n",
            "Epoch 65/98\n",
            "11/11 [==============================] - 0s 6ms/step - loss: 0.2536 - accuracy: 0.8981 - val_loss: 0.2308 - val_accuracy: 0.9022\n",
            "Epoch 66/98\n",
            "11/11 [==============================] - 0s 6ms/step - loss: 0.2579 - accuracy: 0.8987 - val_loss: 0.2326 - val_accuracy: 0.8982\n",
            "Epoch 67/98\n",
            "11/11 [==============================] - 0s 5ms/step - loss: 0.2580 - accuracy: 0.8970 - val_loss: 0.2369 - val_accuracy: 0.9022\n",
            "Epoch 68/98\n",
            "11/11 [==============================] - 0s 5ms/step - loss: 0.2787 - accuracy: 0.8912 - val_loss: 0.3949 - val_accuracy: 0.8432\n",
            "Epoch 69/98\n",
            "11/11 [==============================] - 0s 5ms/step - loss: 0.3372 - accuracy: 0.8731 - val_loss: 0.2564 - val_accuracy: 0.8982\n",
            "Epoch 70/98\n",
            "11/11 [==============================] - 0s 5ms/step - loss: 0.2700 - accuracy: 0.8952 - val_loss: 0.2652 - val_accuracy: 0.9002\n",
            "Epoch 71/98\n",
            "11/11 [==============================] - 0s 6ms/step - loss: 0.2778 - accuracy: 0.8946 - val_loss: 0.2612 - val_accuracy: 0.8900\n",
            "Epoch 72/98\n",
            "11/11 [==============================] - 0s 4ms/step - loss: 0.2744 - accuracy: 0.8935 - val_loss: 0.2320 - val_accuracy: 0.9063\n",
            "Epoch 73/98\n",
            "11/11 [==============================] - 0s 6ms/step - loss: 0.2835 - accuracy: 0.8929 - val_loss: 0.2423 - val_accuracy: 0.9043\n",
            "Epoch 74/98\n",
            "11/11 [==============================] - 0s 4ms/step - loss: 0.2835 - accuracy: 0.8783 - val_loss: 0.2568 - val_accuracy: 0.8900\n",
            "Epoch 75/98\n",
            "11/11 [==============================] - 0s 6ms/step - loss: 0.2737 - accuracy: 0.8923 - val_loss: 0.2324 - val_accuracy: 0.9063\n",
            "Epoch 76/98\n",
            "11/11 [==============================] - 0s 6ms/step - loss: 0.2639 - accuracy: 0.8976 - val_loss: 0.2329 - val_accuracy: 0.8982\n",
            "Epoch 77/98\n",
            "11/11 [==============================] - 0s 4ms/step - loss: 0.2560 - accuracy: 0.9016 - val_loss: 0.2564 - val_accuracy: 0.9002\n",
            "Epoch 78/98\n",
            "11/11 [==============================] - 0s 6ms/step - loss: 0.2546 - accuracy: 0.9051 - val_loss: 0.2314 - val_accuracy: 0.9063\n",
            "Epoch 79/98\n",
            "11/11 [==============================] - 0s 5ms/step - loss: 0.2490 - accuracy: 0.9040 - val_loss: 0.2290 - val_accuracy: 0.9063\n",
            "Epoch 80/98\n",
            "11/11 [==============================] - 0s 5ms/step - loss: 0.2779 - accuracy: 0.8946 - val_loss: 0.2370 - val_accuracy: 0.9022\n",
            "Epoch 81/98\n",
            "11/11 [==============================] - 0s 5ms/step - loss: 0.2776 - accuracy: 0.8882 - val_loss: 0.2652 - val_accuracy: 0.9002\n",
            "Epoch 82/98\n",
            "11/11 [==============================] - 0s 7ms/step - loss: 0.2602 - accuracy: 0.8970 - val_loss: 0.2297 - val_accuracy: 0.9022\n",
            "Epoch 83/98\n",
            "11/11 [==============================] - 0s 6ms/step - loss: 0.2854 - accuracy: 0.8859 - val_loss: 0.2646 - val_accuracy: 0.8839\n",
            "Epoch 84/98\n",
            "11/11 [==============================] - 0s 7ms/step - loss: 0.2671 - accuracy: 0.8981 - val_loss: 0.2361 - val_accuracy: 0.8982\n",
            "Epoch 85/98\n",
            "11/11 [==============================] - 0s 5ms/step - loss: 0.2796 - accuracy: 0.8847 - val_loss: 0.2372 - val_accuracy: 0.8982\n",
            "Epoch 86/98\n",
            "11/11 [==============================] - 0s 5ms/step - loss: 0.2978 - accuracy: 0.8894 - val_loss: 0.2571 - val_accuracy: 0.8941\n",
            "Epoch 87/98\n",
            "11/11 [==============================] - 0s 5ms/step - loss: 0.2706 - accuracy: 0.8941 - val_loss: 0.2415 - val_accuracy: 0.9043\n",
            "Epoch 88/98\n",
            "11/11 [==============================] - 0s 5ms/step - loss: 0.2538 - accuracy: 0.9010 - val_loss: 0.2367 - val_accuracy: 0.8982\n",
            "Epoch 89/98\n",
            "11/11 [==============================] - 0s 6ms/step - loss: 0.2656 - accuracy: 0.8935 - val_loss: 0.2395 - val_accuracy: 0.8982\n",
            "Epoch 90/98\n",
            "11/11 [==============================] - 0s 5ms/step - loss: 0.2602 - accuracy: 0.8987 - val_loss: 0.2413 - val_accuracy: 0.9043\n",
            "Epoch 91/98\n",
            "11/11 [==============================] - 0s 5ms/step - loss: 0.2583 - accuracy: 0.8999 - val_loss: 0.2478 - val_accuracy: 0.9022\n",
            "Epoch 92/98\n",
            "11/11 [==============================] - 0s 6ms/step - loss: 0.2552 - accuracy: 0.9057 - val_loss: 0.2442 - val_accuracy: 0.9002\n",
            "Epoch 93/98\n",
            "11/11 [==============================] - 0s 5ms/step - loss: 0.2782 - accuracy: 0.8760 - val_loss: 0.2367 - val_accuracy: 0.9084\n",
            "Epoch 94/98\n",
            "11/11 [==============================] - 0s 6ms/step - loss: 0.2549 - accuracy: 0.9028 - val_loss: 0.2750 - val_accuracy: 0.8941\n",
            "Epoch 95/98\n",
            "11/11 [==============================] - 0s 6ms/step - loss: 0.2725 - accuracy: 0.8912 - val_loss: 0.2599 - val_accuracy: 0.8859\n",
            "Epoch 96/98\n",
            "11/11 [==============================] - 0s 6ms/step - loss: 0.2597 - accuracy: 0.9028 - val_loss: 0.2331 - val_accuracy: 0.8961\n",
            "Epoch 97/98\n",
            "11/11 [==============================] - 0s 4ms/step - loss: 0.2486 - accuracy: 0.9069 - val_loss: 0.2730 - val_accuracy: 0.8961\n",
            "Epoch 98/98\n",
            "11/11 [==============================] - 0s 6ms/step - loss: 0.2668 - accuracy: 0.8894 - val_loss: 0.2378 - val_accuracy: 0.9043\n"
          ]
        },
        {
          "output_type": "execute_result",
          "data": {
            "text/plain": [
              "<keras.callbacks.History at 0x7fb8dddb0cd0>"
            ]
          },
          "metadata": {},
          "execution_count": 72
        }
      ]
    },
    {
      "cell_type": "code",
      "metadata": {
        "id": "haLaPCvKrWaF",
        "colab": {
          "base_uri": "https://localhost:8080/"
        },
        "outputId": "ef2a309a-ad63-494d-b269-b6bf74029603"
      },
      "source": [
        "preds = nn.predict(x_test)\n",
        "\n",
        "accuracy = accuracy_score(y_test,preds)\n",
        "print('Accuracy: %.3f' % accuracy) "
      ],
      "execution_count": null,
      "outputs": [
        {
          "output_type": "stream",
          "name": "stdout",
          "text": [
            "Accuracy: 0.904\n"
          ]
        }
      ]
    },
    {
      "cell_type": "code",
      "metadata": {
        "id": "MfcA94vkr_83"
      },
      "source": [
        "# Deep Learning\n",
        "# https://machinelearningmastery.com/neural-network-for-cancer-survival-dataset/\n",
        "# https://www.tensorflow.org/api_docs/python/tf/keras/layers/Add\n",
        "# https://www.tensorflow.org/api_docs/python/tf/keras/Sequential\n",
        "# https://stackoverflow.com/questions/68836551/keras-attributeerror-sequential-object-has-no-attribute-predict-classes\n",
        "# Source for drop in performance: https://www.quora.com/Why-is-xgboost-given-so-much-less-attention-than-deep-learning-despite-its-ubiquity-in-winning-Kaggle-solutions"
      ],
      "execution_count": null,
      "outputs": []
    },
    {
      "cell_type": "code",
      "metadata": {
        "colab": {
          "base_uri": "https://localhost:8080/"
        },
        "id": "ZH6L-YG1Rg8E",
        "outputId": "62497151-5cb9-4e56-9b36-b378fc5c1739"
      },
      "source": [
        "# MLP Model Evaluation\n",
        "\n",
        "# TP = cm[1,1]\n",
        "# TN = cm[0,0]\n",
        "# FP = cm[0,1]\n",
        "# FN = cm[1,0]\n",
        "\n",
        "# Confusion Matrix\n",
        "cm = skm.confusion_matrix(y_test, preds)\n",
        "print('Confusion Matrix:', cm)\n",
        "\n",
        "# Senstivity\n",
        "# TP/(TP + FN)\n",
        "sensitivity = cm[1,1]/(cm[1,1] + cm[1,0])\n",
        "print('Sensitivity: ', sensitivity )\n",
        "\n",
        "# Specificity\n",
        "# TN/(TN + FP)\n",
        "specificity = cm[0,0]/(cm[0,0] + cm[0,1])\n",
        "print('Specificity: ', specificity)\n",
        "\n",
        "# Precision\n",
        "# TP/(TP + FP)\n",
        "precision = cm[1,1]/(cm[1,1] + cm[0,1])\n",
        "print('Precision: ', precision)\n",
        "\n",
        "# Recall\n",
        "# TP/(TP + FN)\n",
        "recall = cm[1,1]/(cm[1,1] + cm[1,0])\n",
        "print('Recall: ', recall)\n",
        "\n",
        "# F1 Score: https://scikit-learn.org/stable/modules/generated/sklearn.metrics.f1_score.html\n",
        "f1 = 2 * (precision * recall) / (precision + recall)\n",
        "print('F1 Score: ', f1)"
      ],
      "execution_count": null,
      "outputs": [
        {
          "output_type": "stream",
          "name": "stdout",
          "text": [
            "Confusion Matrix: [[393   3]\n",
            " [ 44  51]]\n",
            "Sensitivity:  0.5368421052631579\n",
            "Specificity:  0.9924242424242424\n",
            "Precision:  0.9444444444444444\n",
            "Recall:  0.5368421052631579\n",
            "F1 Score:  0.6845637583892618\n"
          ]
        }
      ]
    },
    {
      "cell_type": "markdown",
      "metadata": {
        "id": "e81-eQAoRrbw"
      },
      "source": [
        "**Confusion Matrix for Tuned HyperParameters**\n",
        "\n",
        "Confusion Matrix: [[383  13]\n",
        " [ 37  58]]\n",
        "\n",
        "\n",
        "---\n",
        "\n",
        "\n",
        "Sensitivity:  0.6105263157894737\n",
        "\n",
        "\n",
        "---\n",
        "\n",
        "\n",
        "Specificity:  0.9671717171717171\n",
        "\n",
        "\n",
        "---\n",
        "\n",
        "\n",
        "Precision:  0.8169014084507042\n",
        "\n",
        "\n",
        "---\n",
        "\n",
        "\n",
        "Recall:  0.6105263157894737\n",
        "\n",
        "\n",
        "---\n",
        "\n",
        "\n",
        "F1 Score:  0.6987951807228917"
      ]
    },
    {
      "cell_type": "markdown",
      "metadata": {
        "id": "_R7bsJTp333n"
      },
      "source": [
        ":) done\n"
      ]
    }
  ]
}